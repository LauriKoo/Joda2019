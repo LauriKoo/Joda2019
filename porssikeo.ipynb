{
 "cells": [
  {
   "cell_type": "code",
   "execution_count": 1,
   "metadata": {},
   "outputs": [
    {
     "name": "stdout",
     "output_type": "stream",
     "text": [
      "Requirement already satisfied: quandl in /opt/conda/lib/python3.7/site-packages (3.4.8)\n",
      "Requirement already satisfied: six in /opt/conda/lib/python3.7/site-packages (from quandl) (1.12.0)\n",
      "Requirement already satisfied: pyOpenSSL in /opt/conda/lib/python3.7/site-packages (from quandl) (19.0.0)\n",
      "Requirement already satisfied: pandas>=0.14 in /opt/conda/lib/python3.7/site-packages (from quandl) (0.24.2)\n",
      "Requirement already satisfied: numpy>=1.8 in /opt/conda/lib/python3.7/site-packages (from quandl) (1.15.4)\n",
      "Requirement already satisfied: pyasn1 in /opt/conda/lib/python3.7/site-packages (from quandl) (0.4.7)\n",
      "Requirement already satisfied: requests>=2.7.0 in /opt/conda/lib/python3.7/site-packages (from quandl) (2.21.0)\n",
      "Requirement already satisfied: ndg-httpsclient in /opt/conda/lib/python3.7/site-packages (from quandl) (0.5.1)\n",
      "Requirement already satisfied: python-dateutil in /opt/conda/lib/python3.7/site-packages (from quandl) (2.8.0)\n",
      "Requirement already satisfied: more-itertools<=5.0.0 in /opt/conda/lib/python3.7/site-packages (from quandl) (5.0.0)\n",
      "Requirement already satisfied: inflection>=0.3.1 in /opt/conda/lib/python3.7/site-packages (from quandl) (0.3.1)\n",
      "Requirement already satisfied: cryptography>=2.3 in /opt/conda/lib/python3.7/site-packages (from pyOpenSSL->quandl) (2.6.1)\n",
      "Requirement already satisfied: pytz>=2011k in /opt/conda/lib/python3.7/site-packages (from pandas>=0.14->quandl) (2019.1)\n",
      "Requirement already satisfied: urllib3<1.25,>=1.21.1 in /opt/conda/lib/python3.7/site-packages (from requests>=2.7.0->quandl) (1.24.2)\n",
      "Requirement already satisfied: certifi>=2017.4.17 in /opt/conda/lib/python3.7/site-packages (from requests>=2.7.0->quandl) (2019.3.9)\n",
      "Requirement already satisfied: chardet<3.1.0,>=3.0.2 in /opt/conda/lib/python3.7/site-packages (from requests>=2.7.0->quandl) (3.0.4)\n",
      "Requirement already satisfied: idna<2.9,>=2.5 in /opt/conda/lib/python3.7/site-packages (from requests>=2.7.0->quandl) (2.8)\n",
      "Requirement already satisfied: asn1crypto>=0.21.0 in /opt/conda/lib/python3.7/site-packages (from cryptography>=2.3->pyOpenSSL->quandl) (0.24.0)\n",
      "Requirement already satisfied: cffi!=1.11.3,>=1.8 in /opt/conda/lib/python3.7/site-packages (from cryptography>=2.3->pyOpenSSL->quandl) (1.12.3)\n",
      "Requirement already satisfied: pycparser in /opt/conda/lib/python3.7/site-packages (from cffi!=1.11.3,>=1.8->cryptography>=2.3->pyOpenSSL->quandl) (2.19)\n"
     ]
    }
   ],
   "source": [
    "# Background information for the demo:\n",
    "# https://pythonprogramming.net/forecasting-predicting-machine-learning-tutorial/\n",
    "\n",
    "# https://jakevdp.github.io/blog/2017/12/05/installing-python-packages-from-jupyter/\n",
    "# Install a pip package in the current Jupyter kernel\n",
    "import sys\n",
    "!{sys.executable} -m pip install quandl\n",
    "\n",
    "import quandl"
   ]
  },
  {
   "cell_type": "code",
   "execution_count": 2,
   "metadata": {},
   "outputs": [],
   "source": [
    "import pandas as pd\n",
    "import math, datetime\n",
    "import numpy as np\n",
    "from sklearn.linear_model import LinearRegression\n",
    "from sklearn.model_selection import train_test_split\n",
    "import matplotlib.pyplot as plt\n",
    "from matplotlib import style\n",
    "\n",
    "style.use('ggplot')"
   ]
  },
  {
   "cell_type": "code",
   "execution_count": 3,
   "metadata": {},
   "outputs": [],
   "source": [
    "quandl.ApiConfig.api_key = 'HMyvtmU7vjSbK5AhTgwi' # use own api_key"
   ]
  },
  {
   "cell_type": "code",
   "execution_count": 4,
   "metadata": {},
   "outputs": [
    {
     "data": {
      "text/html": [
       "<div>\n",
       "<style scoped>\n",
       "    .dataframe tbody tr th:only-of-type {\n",
       "        vertical-align: middle;\n",
       "    }\n",
       "\n",
       "    .dataframe tbody tr th {\n",
       "        vertical-align: top;\n",
       "    }\n",
       "\n",
       "    .dataframe thead th {\n",
       "        text-align: right;\n",
       "    }\n",
       "</style>\n",
       "<table border=\"1\" class=\"dataframe\">\n",
       "  <thead>\n",
       "    <tr style=\"text-align: right;\">\n",
       "      <th></th>\n",
       "      <th>Open</th>\n",
       "      <th>High</th>\n",
       "      <th>Low</th>\n",
       "      <th>Last</th>\n",
       "      <th>Volume</th>\n",
       "      <th>Turnover</th>\n",
       "    </tr>\n",
       "    <tr>\n",
       "      <th>Date</th>\n",
       "      <th></th>\n",
       "      <th></th>\n",
       "      <th></th>\n",
       "      <th></th>\n",
       "      <th></th>\n",
       "      <th></th>\n",
       "    </tr>\n",
       "  </thead>\n",
       "  <tbody>\n",
       "    <tr>\n",
       "      <th>2019-09-19</th>\n",
       "      <td>4.6265</td>\n",
       "      <td>4.7150</td>\n",
       "      <td>4.6170</td>\n",
       "      <td>4.6700</td>\n",
       "      <td>240872.0</td>\n",
       "      <td>1126817.0</td>\n",
       "    </tr>\n",
       "    <tr>\n",
       "      <th>2019-09-20</th>\n",
       "      <td>4.6765</td>\n",
       "      <td>4.7955</td>\n",
       "      <td>4.6655</td>\n",
       "      <td>4.7820</td>\n",
       "      <td>411978.0</td>\n",
       "      <td>1942109.0</td>\n",
       "    </tr>\n",
       "    <tr>\n",
       "      <th>2019-09-23</th>\n",
       "      <td>4.7920</td>\n",
       "      <td>4.8265</td>\n",
       "      <td>4.6485</td>\n",
       "      <td>4.6700</td>\n",
       "      <td>351038.0</td>\n",
       "      <td>1658852.0</td>\n",
       "    </tr>\n",
       "    <tr>\n",
       "      <th>2019-09-24</th>\n",
       "      <td>4.6645</td>\n",
       "      <td>4.6800</td>\n",
       "      <td>4.6415</td>\n",
       "      <td>4.6455</td>\n",
       "      <td>168517.0</td>\n",
       "      <td>783798.0</td>\n",
       "    </tr>\n",
       "    <tr>\n",
       "      <th>2019-09-25</th>\n",
       "      <td>4.6020</td>\n",
       "      <td>4.6020</td>\n",
       "      <td>4.4915</td>\n",
       "      <td>4.5700</td>\n",
       "      <td>221235.0</td>\n",
       "      <td>1003718.0</td>\n",
       "    </tr>\n",
       "  </tbody>\n",
       "</table>\n",
       "</div>"
      ],
      "text/plain": [
       "              Open    High     Low    Last    Volume   Turnover\n",
       "Date                                                           \n",
       "2019-09-19  4.6265  4.7150  4.6170  4.6700  240872.0  1126817.0\n",
       "2019-09-20  4.6765  4.7955  4.6655  4.7820  411978.0  1942109.0\n",
       "2019-09-23  4.7920  4.8265  4.6485  4.6700  351038.0  1658852.0\n",
       "2019-09-24  4.6645  4.6800  4.6415  4.6455  168517.0   783798.0\n",
       "2019-09-25  4.6020  4.6020  4.4915  4.5700  221235.0  1003718.0"
      ]
     },
     "execution_count": 4,
     "metadata": {},
     "output_type": "execute_result"
    }
   ],
   "source": [
    "# Get stock data\n",
    "stock = 'EURONEXT/NOKIA'\n",
    "df = quandl.get(stock, returns='pandas')      # Quandl has pandas dataframe built in\n",
    "df.tail()"
   ]
  },
  {
   "cell_type": "code",
   "execution_count": 5,
   "metadata": {},
   "outputs": [
    {
     "data": {
      "text/plain": [
       "LinearRegression(copy_X=True, fit_intercept=True, n_jobs=-1, normalize=False)"
      ]
     },
     "execution_count": 5,
     "metadata": {},
     "output_type": "execute_result"
    }
   ],
   "source": [
    "# Create dataframe\n",
    "df = df[['Open', 'High', 'Low', 'Last', 'Volume', 'Turnover']]\n",
    "df['VOL_PCT'] = (df['High'] - df['Low']) / df['Last'] * 100.0\n",
    "\n",
    "df = df[['Open', 'Last', 'Volume', 'VOL_PCT']]\n",
    "\n",
    "forecast_col = 'Last'\n",
    "\n",
    "df.fillna(-99999, inplace=True)\n",
    "\n",
    "pct = 0.05\n",
    "forecast_out = int(math.ceil(pct*len(df)))      # pct of data set to where forecast is done in days\n",
    "\n",
    "df['label'] = df[forecast_col].shift(-forecast_out)\n",
    "\n",
    "X = np.array(df.drop(['label'], 1))  # Features, everything except label\n",
    "X_lately = X[-forecast_out:]         # Time period to be forecasted \n",
    "X = X[:-forecast_out:]\n",
    "\n",
    "df.dropna(inplace=True)             # Drop missing data\n",
    "\n",
    "y = np.array(df['label'])           # Labels\n",
    "\n",
    "X_train, X_test, y_train, y_test = train_test_split(X, y, test_size=0.2)    # Cross-validation\n",
    "\n",
    "clf = LinearRegression(n_jobs=-1)   # Classifier to be used, n_jobs number of parallel jobs\n",
    "clf.fit(X_train, y_train)           # Training"
   ]
  },
  {
   "cell_type": "code",
   "execution_count": 6,
   "metadata": {},
   "outputs": [
    {
     "name": "stdout",
     "output_type": "stream",
     "text": [
      "\n",
      "Last date: 2019-07-17 00:00:00\n",
      "Confidence:  0.1412\n",
      "The next stock prices of EURONEXT/NOKIA for 49 days: \n"
     ]
    }
   ],
   "source": [
    "print()\n",
    "last_date = df.iloc[-1].name\n",
    "print(\"Last date:\", last_date)\n",
    "\n",
    "confidence = clf.score(X_test, y_test)      # Testing, result squared confidence\n",
    "print(\"Confidence: \", round(confidence,4))\n",
    "\n",
    "forecast_set = clf.predict(X_lately)        # Why not second parameter? - Label is known. (next day)\n",
    "print(\"The next stock prices of\" ,stock,\"for\", forecast_out, \"days: \")"
   ]
  },
  {
   "cell_type": "code",
   "execution_count": 7,
   "metadata": {},
   "outputs": [
    {
     "name": "stdout",
     "output_type": "stream",
     "text": [
      "\t 4.754\n",
      "\t 4.785 \t +0.439\n",
      "\t 4.752 \t -0.461\n",
      "\t 4.761 \t +0.121\n",
      "\t 4.789 \t +0.403\n",
      "\t 4.898 \t +1.502\n",
      "\t 4.88 \t -0.243\n",
      "\t 4.876 \t -0.063\n",
      "\t 4.843 \t -0.453\n",
      "\t 4.897 \t +0.745\n",
      "\t 4.833 \t -0.876\n",
      "\t 4.821 \t -0.159\n",
      "\t 4.854 \t +0.446\n",
      "\t 4.819 \t -0.484\n",
      "\t 4.842 \t +0.321\n",
      "\t 4.817 \t -0.347\n",
      "\t 4.818 \t +0.019\n",
      "\t 4.858 \t +0.556\n",
      "\t 4.807 \t -0.704\n",
      "\t 4.801 \t -0.092\n",
      "\t 4.777 \t -0.322\n",
      "\t 4.794 \t +0.23\n",
      "\t 4.779 \t -0.206\n",
      "\t 4.782 \t +0.042\n",
      "\t 4.757 \t -0.349\n",
      "\t 4.756 \t -0.014\n",
      "\t 4.74 \t -0.228\n",
      "\t 4.722 \t -0.257\n",
      "\t 4.713 \t -0.117\n",
      "\t 4.737 \t +0.335\n",
      "\t 4.728 \t -0.127\n",
      "\t 4.716 \t -0.168\n",
      "\t 4.722 \t +0.074\n",
      "\t 4.716 \t -0.075\n",
      "\t 4.752 \t +0.507\n",
      "\t 4.742 \t -0.137\n",
      "\t 4.742 \t -0.003\n",
      "\t 4.743 \t +0.014\n",
      "\t 4.762 \t +0.258\n",
      "\t 4.8 \t +0.538\n",
      "\t 4.772 \t -0.385\n",
      "\t 4.764 \t -0.121\n",
      "\t 4.786 \t +0.317\n",
      "\t 4.769 \t -0.246\n",
      "\t 4.804 \t +0.494\n",
      "\t 4.854 \t +0.696\n",
      "\t 4.826 \t -0.392\n",
      "\t 4.764 \t -0.859\n",
      "\t 4.776 \t +0.162\n"
     ]
    }
   ],
   "source": [
    "i = 0\n",
    "# Console printing the forecast stock prices\n",
    "while i < len(forecast_set):\n",
    "    if i != 0:\n",
    "        daily_diff_pct = round((forecast_set[i]-forecast_set[i-1])/(forecast_set[i-1]+forecast_set[i]/2)*100,3)\n",
    "        daily_diff_lambda = lambda j: (\"+\" if j > 0 else \"\") + str(j)\n",
    "        print(\"\\t\", str(np.round(forecast_set[i],3)), \"\\t\", daily_diff_lambda(daily_diff_pct))\n",
    "    else:\n",
    "        print(\"\\t\", str(np.round(forecast_set[i],3)))\n",
    "    i += 1"
   ]
  },
  {
   "cell_type": "code",
   "execution_count": 8,
   "metadata": {},
   "outputs": [],
   "source": [
    "df['Forecast'] = np.nan     # Create empty array\n",
    "\n",
    "# Populate the forecast set\n",
    "for i in forecast_set:\n",
    "    next_date = last_date + datetime.timedelta(days=1)\n",
    "    df.loc[next_date] = [np.nan for j in range(len(df.columns)-1)] + [i] # [i] adds the item to the set\n",
    "    last_date = next_date"
   ]
  },
  {
   "cell_type": "code",
   "execution_count": 9,
   "metadata": {},
   "outputs": [
    {
     "data": {
      "image/png": "[encoded data removed]",
      "text/plain": [
       "<Figure size 432x288 with 1 Axes>"
      ]
     },
     "metadata": {
      "needs_background": "light"
     },
     "output_type": "display_data"
    }
   ],
   "source": [
    "# Plotting the results\n",
    "df['Last'].plot()\n",
    "df['Forecast'].plot()\n",
    "plt.legend(loc=3)\n",
    "plt.xlabel('Date')\n",
    "plt.ylabel('Stock price')\n",
    "plt.show()"
   ]
  },
  {
   "cell_type": "code",
   "execution_count": null,
   "metadata": {},
   "outputs": [],
   "source": []
  }
 ],
 "metadata": {
  "kernelspec": {
   "display_name": "Python 3",
   "language": "python",
   "name": "python3"
  },
  "language_info": {
   "codemirror_mode": {
    "name": "ipython",
    "version": 3
   },
   "file_extension": ".py",
   "mimetype": "text/x-python",
   "name": "python",
   "nbconvert_exporter": "python",
   "pygments_lexer": "ipython3",
   "version": "3.7.3"
  }
 },
 "nbformat": 4,
 "nbformat_minor": 2
}
