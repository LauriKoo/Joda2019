{
 "cells": [
  {
   "cell_type": "markdown",
   "metadata": {},
   "source": [
    "### Asunnon hinnan ennustaminen Oslossa\n",
    "\n",
    "Ladataan kirjastot.\n",
    "Haetaan data insideairbnb.com -palvelusta, valitaan Oslo.\n",
    "Siivotaan dataa.\n",
    "Tutkitaan scatterplot kuvalla riippuvuuksia\n",
    "Testataan usealla koneoppimisalgoritmilla ennustamista\n",
    "Kesken"
   ]
  },
  {
   "cell_type": "code",
   "execution_count": 1,
   "metadata": {},
   "outputs": [],
   "source": [
    "%matplotlib inline\n",
    "import pandas as pd\n",
    "import numpy as np\n",
    "from sklearn import ensemble\n",
    "from sklearn import linear_model\n",
    "from sklearn.model_selection import learning_curve,GridSearchCV\n",
    "from sklearn import preprocessing\n",
    "from sklearn.model_selection import train_test_split\n",
    "import sklearn.metrics as metrics\n",
    "import matplotlib.pyplot as plt\n",
    "from collections import Counter"
   ]
  },
  {
   "cell_type": "markdown",
   "metadata": {},
   "source": [
    "Haetaan Oslon datasta 12 mielenkiintoista saraketta ja luetaan ne dataframeen gzip muodossa. Lisäksi sama kirjoitetaan tiedostoon data.csv jotta tietoja voidaan tarkastella muissa sovelluksissa. Lopuksi tulostetaan rivien ja sarakkeiden määrä."
   ]
  },
  {
   "cell_type": "code",
   "execution_count": 2,
   "metadata": {},
   "outputs": [
    {
     "data": {
      "text/plain": [
       "(8577, 12)"
      ]
     },
     "execution_count": 2,
     "metadata": {},
     "output_type": "execute_result"
    }
   ],
   "source": [
    "listings_file = 'http://data.insideairbnb.com/norway/oslo/oslo/2019-09-28/data/listings.csv.gz'\n",
    "\n",
    "cols = ['price',\n",
    "        'accommodates',\n",
    "        'bedrooms',\n",
    "        'beds',\n",
    "        'neighbourhood_cleansed',\n",
    "        'room_type',\n",
    "        'cancellation_policy',\n",
    "        'instant_bookable',\n",
    "        'reviews_per_month',\n",
    "        'number_of_reviews',\n",
    "        'availability_30',\n",
    "        'review_scores_rating'\n",
    "        ]\n",
    "\n",
    "# read the file into a dataframe\n",
    "df = pd.read_csv(listings_file, compression='gzip', usecols=cols)\n",
    "df.to_csv('data.csv')\n",
    "\n",
    "len(df.index)\n",
    "df.shape"
   ]
  },
  {
   "cell_type": "markdown",
   "metadata": {},
   "source": [
    "Tutkitaan miltä data näyttää."
   ]
  },
  {
   "cell_type": "code",
   "execution_count": 3,
   "metadata": {},
   "outputs": [
    {
     "data": {
      "text/html": [
       "<div>\n",
       "<style scoped>\n",
       "    .dataframe tbody tr th:only-of-type {\n",
       "        vertical-align: middle;\n",
       "    }\n",
       "\n",
       "    .dataframe tbody tr th {\n",
       "        vertical-align: top;\n",
       "    }\n",
       "\n",
       "    .dataframe thead th {\n",
       "        text-align: right;\n",
       "    }\n",
       "</style>\n",
       "<table border=\"1\" class=\"dataframe\">\n",
       "  <thead>\n",
       "    <tr style=\"text-align: right;\">\n",
       "      <th></th>\n",
       "      <th>neighbourhood_cleansed</th>\n",
       "      <th>room_type</th>\n",
       "      <th>accommodates</th>\n",
       "      <th>bedrooms</th>\n",
       "      <th>beds</th>\n",
       "      <th>price</th>\n",
       "      <th>availability_30</th>\n",
       "      <th>number_of_reviews</th>\n",
       "      <th>review_scores_rating</th>\n",
       "      <th>instant_bookable</th>\n",
       "      <th>cancellation_policy</th>\n",
       "      <th>reviews_per_month</th>\n",
       "    </tr>\n",
       "  </thead>\n",
       "  <tbody>\n",
       "    <tr>\n",
       "      <td>0</td>\n",
       "      <td>Frogner</td>\n",
       "      <td>Entire home/apt</td>\n",
       "      <td>3</td>\n",
       "      <td>2.0</td>\n",
       "      <td>3.0</td>\n",
       "      <td>$1,925.00</td>\n",
       "      <td>28</td>\n",
       "      <td>37</td>\n",
       "      <td>97.0</td>\n",
       "      <td>t</td>\n",
       "      <td>moderate</td>\n",
       "      <td>0.50</td>\n",
       "    </tr>\n",
       "    <tr>\n",
       "      <td>1</td>\n",
       "      <td>Frogner</td>\n",
       "      <td>Private room</td>\n",
       "      <td>3</td>\n",
       "      <td>1.0</td>\n",
       "      <td>1.0</td>\n",
       "      <td>$381.00</td>\n",
       "      <td>0</td>\n",
       "      <td>36</td>\n",
       "      <td>97.0</td>\n",
       "      <td>t</td>\n",
       "      <td>strict_14_with_grace_period</td>\n",
       "      <td>0.70</td>\n",
       "    </tr>\n",
       "    <tr>\n",
       "      <td>2</td>\n",
       "      <td>Frogner</td>\n",
       "      <td>Private room</td>\n",
       "      <td>1</td>\n",
       "      <td>1.0</td>\n",
       "      <td>2.0</td>\n",
       "      <td>$472.00</td>\n",
       "      <td>0</td>\n",
       "      <td>47</td>\n",
       "      <td>96.0</td>\n",
       "      <td>f</td>\n",
       "      <td>strict_14_with_grace_period</td>\n",
       "      <td>0.44</td>\n",
       "    </tr>\n",
       "    <tr>\n",
       "      <td>3</td>\n",
       "      <td>Sagene</td>\n",
       "      <td>Entire home/apt</td>\n",
       "      <td>3</td>\n",
       "      <td>1.0</td>\n",
       "      <td>1.0</td>\n",
       "      <td>$999.00</td>\n",
       "      <td>28</td>\n",
       "      <td>7</td>\n",
       "      <td>94.0</td>\n",
       "      <td>f</td>\n",
       "      <td>moderate</td>\n",
       "      <td>0.07</td>\n",
       "    </tr>\n",
       "    <tr>\n",
       "      <td>4</td>\n",
       "      <td>Gamle Oslo</td>\n",
       "      <td>Private room</td>\n",
       "      <td>3</td>\n",
       "      <td>1.0</td>\n",
       "      <td>2.0</td>\n",
       "      <td>$499.00</td>\n",
       "      <td>0</td>\n",
       "      <td>48</td>\n",
       "      <td>95.0</td>\n",
       "      <td>f</td>\n",
       "      <td>moderate</td>\n",
       "      <td>0.46</td>\n",
       "    </tr>\n",
       "  </tbody>\n",
       "</table>\n",
       "</div>"
      ],
      "text/plain": [
       "  neighbourhood_cleansed        room_type  accommodates  bedrooms  beds  \\\n",
       "0                Frogner  Entire home/apt             3       2.0   3.0   \n",
       "1                Frogner     Private room             3       1.0   1.0   \n",
       "2                Frogner     Private room             1       1.0   2.0   \n",
       "3                 Sagene  Entire home/apt             3       1.0   1.0   \n",
       "4             Gamle Oslo     Private room             3       1.0   2.0   \n",
       "\n",
       "       price  availability_30  number_of_reviews  review_scores_rating  \\\n",
       "0  $1,925.00               28                 37                  97.0   \n",
       "1    $381.00                0                 36                  97.0   \n",
       "2    $472.00                0                 47                  96.0   \n",
       "3    $999.00               28                  7                  94.0   \n",
       "4    $499.00                0                 48                  95.0   \n",
       "\n",
       "  instant_bookable          cancellation_policy  reviews_per_month  \n",
       "0                t                     moderate               0.50  \n",
       "1                t  strict_14_with_grace_period               0.70  \n",
       "2                f  strict_14_with_grace_period               0.44  \n",
       "3                f                     moderate               0.07  \n",
       "4                f                     moderate               0.46  "
      ]
     },
     "execution_count": 3,
     "metadata": {},
     "output_type": "execute_result"
    }
   ],
   "source": [
    "#df = df.rename_axis(['index'])\n",
    "df.head()"
   ]
  },
  {
   "cell_type": "code",
   "execution_count": 4,
   "metadata": {},
   "outputs": [
    {
     "data": {
      "text/plain": [
       "['neighbourhood_cleansed',\n",
       " 'room_type',\n",
       " 'accommodates',\n",
       " 'bedrooms',\n",
       " 'beds',\n",
       " 'price',\n",
       " 'availability_30',\n",
       " 'number_of_reviews',\n",
       " 'review_scores_rating',\n",
       " 'instant_bookable',\n",
       " 'cancellation_policy',\n",
       " 'reviews_per_month']"
      ]
     },
     "execution_count": 4,
     "metadata": {},
     "output_type": "execute_result"
    }
   ],
   "source": [
    "list(df)"
   ]
  },
  {
   "cell_type": "markdown",
   "metadata": {},
   "source": [
    "Siivotaan dollarin merkki hinta sarakkeesta, mutta objekti on viellä väärin."
   ]
  },
  {
   "cell_type": "code",
   "execution_count": 5,
   "metadata": {},
   "outputs": [
    {
     "data": {
      "text/plain": [
       "0    1,925.00\n",
       "1      381.00\n",
       "2      472.00\n",
       "3      999.00\n",
       "4      499.00\n",
       "Name: price, dtype: object"
      ]
     },
     "execution_count": 5,
     "metadata": {},
     "output_type": "execute_result"
    }
   ],
   "source": [
    "df = pd.read_csv('data.csv', low_memory=False, converters={'price': lambda s: (s.replace('$', ''))})\n",
    "df.price.head(5)"
   ]
  },
  {
   "cell_type": "markdown",
   "metadata": {},
   "source": [
    "Siivotaan sekä pilkku että tuhansien erottimena ja muunnetaan kentän tyypiksi float."
   ]
  },
  {
   "cell_type": "code",
   "execution_count": 6,
   "metadata": {},
   "outputs": [
    {
     "data": {
      "text/plain": [
       "0    1925.0\n",
       "1     381.0\n",
       "2     472.0\n",
       "3     999.0\n",
       "4     499.0\n",
       "Name: price, dtype: float64"
      ]
     },
     "execution_count": 6,
     "metadata": {},
     "output_type": "execute_result"
    }
   ],
   "source": [
    "df['price'] = df['price'].replace('[\\$,)]','',  \\\n",
    "        regex=True).replace('[(]','-', regex=True).astype(float)\n",
    "df.price.head(5)\n",
    "#df.price.sort_values(ascending=False).head(100)"
   ]
  },
  {
   "cell_type": "code",
   "execution_count": 7,
   "metadata": {},
   "outputs": [
    {
     "data": {
      "text/plain": [
       "(8577, 13)"
      ]
     },
     "execution_count": 7,
     "metadata": {},
     "output_type": "execute_result"
    }
   ],
   "source": [
    "df.shape"
   ]
  },
  {
   "cell_type": "markdown",
   "metadata": {},
   "source": [
    "Asuntojen määrä kaupunginosittain"
   ]
  },
  {
   "cell_type": "code",
   "execution_count": 8,
   "metadata": {},
   "outputs": [
    {
     "data": {
      "text/plain": [
       "Grünerløkka       1856\n",
       "Gamle Oslo        1518\n",
       "Frogner           1440\n",
       "St. Hanshaugen    1129\n",
       "Sagene             944\n",
       "Name: neighbourhood_cleansed, dtype: int64"
      ]
     },
     "execution_count": 8,
     "metadata": {},
     "output_type": "execute_result"
    }
   ],
   "source": [
    "df.neighbourhood_cleansed.value_counts().head()"
   ]
  },
  {
   "cell_type": "markdown",
   "metadata": {},
   "source": [
    "Sama graafisesti kaupunginosat järjestyksessä.\n",
    "Koodista katsoen counter -luokan avulla dictionaryn, joka muunnetaan from_dict metodilla data frame, pandas toteuttaa dataframen piirtämisen suoraan plot metodilla. Tyyliä säädetään plt.rcParams parametri säädön avulla."
   ]
  },
  {
   "cell_type": "code",
   "execution_count": 9,
   "metadata": {},
   "outputs": [
    {
     "data": {
      "text/plain": [
       "<matplotlib.axes._subplots.AxesSubplot at 0x7f70a5b62be0>"
      ]
     },
     "execution_count": 9,
     "metadata": {},
     "output_type": "execute_result"
    },
    {
     "data": {
      "image/png": "[encoded data removed]",
      "text/plain": [
       "<Figure size 1152x432 with 1 Axes>"
      ]
     },
     "metadata": {
      "needs_background": "light"
     },
     "output_type": "display_data"
    }
   ],
   "source": [
    "nb_counts = Counter(df.neighbourhood_cleansed)\n",
    "tdf = pd.DataFrame.from_dict(nb_counts, orient='index').sort_values(by=0)\n",
    "# muutetaan leveys\n",
    "plt.rcParams[\"figure.figsize\"] = [16, 6]\n",
    "tdf.plot(kind='bar')"
   ]
  },
  {
   "cell_type": "code",
   "execution_count": 10,
   "metadata": {},
   "outputs": [
    {
     "data": {
      "text/plain": [
       "Counter({'Frogner': 1440,\n",
       "         'Sagene': 944,\n",
       "         'Gamle Oslo': 1518,\n",
       "         'St. Hanshaugen': 1129,\n",
       "         'Grünerløkka': 1856,\n",
       "         'Nordstrand': 283,\n",
       "         'Vestre Aker': 248,\n",
       "         'Nordre Aker': 273,\n",
       "         'Ullern': 198,\n",
       "         'Østensjø': 170,\n",
       "         'Søndre Nordstrand': 85,\n",
       "         'Sentrum': 142,\n",
       "         'Alna': 115,\n",
       "         'Bjerke': 106,\n",
       "         'Marka': 24,\n",
       "         'Stovner': 20,\n",
       "         'Grorud': 26})"
      ]
     },
     "execution_count": 10,
     "metadata": {},
     "output_type": "execute_result"
    }
   ],
   "source": [
    "#df_nb = pd.DataFrame(nb_counts)\n",
    "nb_counts\n",
    "#len(nb_counts)"
   ]
  },
  {
   "cell_type": "code",
   "execution_count": 11,
   "metadata": {},
   "outputs": [
    {
     "data": {
      "text/plain": [
       "'0.25.1'"
      ]
     },
     "execution_count": 11,
     "metadata": {},
     "output_type": "execute_result"
    }
   ],
   "source": [
    "#!pip install --upgrade pandas chek due azure\n",
    "pd.__version__\n",
    "#list(nb_counts)"
   ]
  },
  {
   "cell_type": "markdown",
   "metadata": {},
   "source": [
    "Sama järjestely dataframen avulla. "
   ]
  },
  {
   "cell_type": "code",
   "execution_count": 12,
   "metadata": {},
   "outputs": [
    {
     "data": {
      "text/html": [
       "<div>\n",
       "<style scoped>\n",
       "    .dataframe tbody tr th:only-of-type {\n",
       "        vertical-align: middle;\n",
       "    }\n",
       "\n",
       "    .dataframe tbody tr th {\n",
       "        vertical-align: top;\n",
       "    }\n",
       "\n",
       "    .dataframe thead th {\n",
       "        text-align: right;\n",
       "    }\n",
       "</style>\n",
       "<table border=\"1\" class=\"dataframe\">\n",
       "  <thead>\n",
       "    <tr style=\"text-align: right;\">\n",
       "      <th></th>\n",
       "      <th>count</th>\n",
       "    </tr>\n",
       "  </thead>\n",
       "  <tbody>\n",
       "    <tr>\n",
       "      <td>Grünerløkka</td>\n",
       "      <td>1856</td>\n",
       "    </tr>\n",
       "    <tr>\n",
       "      <td>Gamle Oslo</td>\n",
       "      <td>1518</td>\n",
       "    </tr>\n",
       "    <tr>\n",
       "      <td>Frogner</td>\n",
       "      <td>1440</td>\n",
       "    </tr>\n",
       "    <tr>\n",
       "      <td>St. Hanshaugen</td>\n",
       "      <td>1129</td>\n",
       "    </tr>\n",
       "    <tr>\n",
       "      <td>Sagene</td>\n",
       "      <td>944</td>\n",
       "    </tr>\n",
       "    <tr>\n",
       "      <td>Nordstrand</td>\n",
       "      <td>283</td>\n",
       "    </tr>\n",
       "    <tr>\n",
       "      <td>Nordre Aker</td>\n",
       "      <td>273</td>\n",
       "    </tr>\n",
       "    <tr>\n",
       "      <td>Vestre Aker</td>\n",
       "      <td>248</td>\n",
       "    </tr>\n",
       "    <tr>\n",
       "      <td>Ullern</td>\n",
       "      <td>198</td>\n",
       "    </tr>\n",
       "    <tr>\n",
       "      <td>Østensjø</td>\n",
       "      <td>170</td>\n",
       "    </tr>\n",
       "    <tr>\n",
       "      <td>Sentrum</td>\n",
       "      <td>142</td>\n",
       "    </tr>\n",
       "    <tr>\n",
       "      <td>Alna</td>\n",
       "      <td>115</td>\n",
       "    </tr>\n",
       "    <tr>\n",
       "      <td>Bjerke</td>\n",
       "      <td>106</td>\n",
       "    </tr>\n",
       "    <tr>\n",
       "      <td>Søndre Nordstrand</td>\n",
       "      <td>85</td>\n",
       "    </tr>\n",
       "    <tr>\n",
       "      <td>Grorud</td>\n",
       "      <td>26</td>\n",
       "    </tr>\n",
       "    <tr>\n",
       "      <td>Marka</td>\n",
       "      <td>24</td>\n",
       "    </tr>\n",
       "    <tr>\n",
       "      <td>Stovner</td>\n",
       "      <td>20</td>\n",
       "    </tr>\n",
       "  </tbody>\n",
       "</table>\n",
       "</div>"
      ],
      "text/plain": [
       "                   count\n",
       "Grünerløkka         1856\n",
       "Gamle Oslo          1518\n",
       "Frogner             1440\n",
       "St. Hanshaugen      1129\n",
       "Sagene               944\n",
       "Nordstrand           283\n",
       "Nordre Aker          273\n",
       "Vestre Aker          248\n",
       "Ullern               198\n",
       "Østensjø             170\n",
       "Sentrum              142\n",
       "Alna                 115\n",
       "Bjerke               106\n",
       "Søndre Nordstrand     85\n",
       "Grorud                26\n",
       "Marka                 24\n",
       "Stovner               20"
      ]
     },
     "execution_count": 12,
     "metadata": {},
     "output_type": "execute_result"
    }
   ],
   "source": [
    "df_nb = pd.DataFrame.from_dict(nb_counts, orient='index', columns=['count'])\n",
    "df_nb.columns\n",
    "df_nb.sort_values(by=['count'], ascending=False)"
   ]
  },
  {
   "cell_type": "markdown",
   "metadata": {},
   "source": [
    "Valitaan tarkasteluun 8 suosituinta "
   ]
  },
  {
   "cell_type": "code",
   "execution_count": 13,
   "metadata": {},
   "outputs": [
    {
     "data": {
      "text/plain": [
       "Index(['Grünerløkka', 'Gamle Oslo', 'Frogner', 'St. Hanshaugen', 'Sagene',\n",
       "       'Nordstrand', 'Nordre Aker', 'Vestre Aker'],\n",
       "      dtype='object')"
      ]
     },
     "execution_count": 13,
     "metadata": {},
     "output_type": "execute_result"
    }
   ],
   "source": [
    "df.price.value_counts()\n",
    "top_neighbourhoods = df_nb.sort_values(by=('count'),ascending=False).head(8).index\n",
    "top_neighbourhoods"
   ]
  },
  {
   "cell_type": "code",
   "execution_count": 14,
   "metadata": {},
   "outputs": [
    {
     "data": {
      "text/plain": [
       "0       True\n",
       "1       True\n",
       "2       True\n",
       "3       True\n",
       "4       True\n",
       "        ... \n",
       "8572    True\n",
       "8573    True\n",
       "8574    True\n",
       "8575    True\n",
       "8576    True\n",
       "Name: neighbourhood_cleansed, Length: 8577, dtype: bool"
      ]
     },
     "execution_count": 14,
     "metadata": {},
     "output_type": "execute_result"
    }
   ],
   "source": [
    "df.neighbourhood_cleansed.isin(top_neighbourhoods)"
   ]
  },
  {
   "cell_type": "code",
   "execution_count": 15,
   "metadata": {},
   "outputs": [
    {
     "data": {
      "text/html": [
       "<div>\n",
       "<style scoped>\n",
       "    .dataframe tbody tr th:only-of-type {\n",
       "        vertical-align: middle;\n",
       "    }\n",
       "\n",
       "    .dataframe tbody tr th {\n",
       "        vertical-align: top;\n",
       "    }\n",
       "\n",
       "    .dataframe thead th {\n",
       "        text-align: right;\n",
       "    }\n",
       "</style>\n",
       "<table border=\"1\" class=\"dataframe\">\n",
       "  <thead>\n",
       "    <tr style=\"text-align: right;\">\n",
       "      <th></th>\n",
       "      <th>Unnamed: 0</th>\n",
       "      <th>neighbourhood_cleansed</th>\n",
       "      <th>room_type</th>\n",
       "      <th>accommodates</th>\n",
       "      <th>bedrooms</th>\n",
       "      <th>beds</th>\n",
       "      <th>price</th>\n",
       "      <th>availability_30</th>\n",
       "      <th>number_of_reviews</th>\n",
       "      <th>review_scores_rating</th>\n",
       "      <th>instant_bookable</th>\n",
       "      <th>cancellation_policy</th>\n",
       "      <th>reviews_per_month</th>\n",
       "    </tr>\n",
       "  </thead>\n",
       "  <tbody>\n",
       "    <tr>\n",
       "      <td>0</td>\n",
       "      <td>0</td>\n",
       "      <td>Frogner</td>\n",
       "      <td>Entire home/apt</td>\n",
       "      <td>3</td>\n",
       "      <td>2.0</td>\n",
       "      <td>3.0</td>\n",
       "      <td>1925.0</td>\n",
       "      <td>28</td>\n",
       "      <td>37</td>\n",
       "      <td>97.0</td>\n",
       "      <td>t</td>\n",
       "      <td>moderate</td>\n",
       "      <td>0.50</td>\n",
       "    </tr>\n",
       "    <tr>\n",
       "      <td>1</td>\n",
       "      <td>1</td>\n",
       "      <td>Frogner</td>\n",
       "      <td>Private room</td>\n",
       "      <td>3</td>\n",
       "      <td>1.0</td>\n",
       "      <td>1.0</td>\n",
       "      <td>381.0</td>\n",
       "      <td>0</td>\n",
       "      <td>36</td>\n",
       "      <td>97.0</td>\n",
       "      <td>t</td>\n",
       "      <td>strict_14_with_grace_period</td>\n",
       "      <td>0.70</td>\n",
       "    </tr>\n",
       "    <tr>\n",
       "      <td>2</td>\n",
       "      <td>2</td>\n",
       "      <td>Frogner</td>\n",
       "      <td>Private room</td>\n",
       "      <td>1</td>\n",
       "      <td>1.0</td>\n",
       "      <td>2.0</td>\n",
       "      <td>472.0</td>\n",
       "      <td>0</td>\n",
       "      <td>47</td>\n",
       "      <td>96.0</td>\n",
       "      <td>f</td>\n",
       "      <td>strict_14_with_grace_period</td>\n",
       "      <td>0.44</td>\n",
       "    </tr>\n",
       "    <tr>\n",
       "      <td>3</td>\n",
       "      <td>3</td>\n",
       "      <td>Sagene</td>\n",
       "      <td>Entire home/apt</td>\n",
       "      <td>3</td>\n",
       "      <td>1.0</td>\n",
       "      <td>1.0</td>\n",
       "      <td>999.0</td>\n",
       "      <td>28</td>\n",
       "      <td>7</td>\n",
       "      <td>94.0</td>\n",
       "      <td>f</td>\n",
       "      <td>moderate</td>\n",
       "      <td>0.07</td>\n",
       "    </tr>\n",
       "    <tr>\n",
       "      <td>4</td>\n",
       "      <td>4</td>\n",
       "      <td>Gamle Oslo</td>\n",
       "      <td>Private room</td>\n",
       "      <td>3</td>\n",
       "      <td>1.0</td>\n",
       "      <td>2.0</td>\n",
       "      <td>499.0</td>\n",
       "      <td>0</td>\n",
       "      <td>48</td>\n",
       "      <td>95.0</td>\n",
       "      <td>f</td>\n",
       "      <td>moderate</td>\n",
       "      <td>0.46</td>\n",
       "    </tr>\n",
       "  </tbody>\n",
       "</table>\n",
       "</div>"
      ],
      "text/plain": [
       "   Unnamed: 0 neighbourhood_cleansed        room_type  accommodates  bedrooms  \\\n",
       "0           0                Frogner  Entire home/apt             3       2.0   \n",
       "1           1                Frogner     Private room             3       1.0   \n",
       "2           2                Frogner     Private room             1       1.0   \n",
       "3           3                 Sagene  Entire home/apt             3       1.0   \n",
       "4           4             Gamle Oslo     Private room             3       1.0   \n",
       "\n",
       "   beds   price  availability_30  number_of_reviews  review_scores_rating  \\\n",
       "0   3.0  1925.0               28                 37                  97.0   \n",
       "1   1.0   381.0                0                 36                  97.0   \n",
       "2   2.0   472.0                0                 47                  96.0   \n",
       "3   1.0   999.0               28                  7                  94.0   \n",
       "4   2.0   499.0                0                 48                  95.0   \n",
       "\n",
       "  instant_bookable          cancellation_policy  reviews_per_month  \n",
       "0                t                     moderate               0.50  \n",
       "1                t  strict_14_with_grace_period               0.70  \n",
       "2                f  strict_14_with_grace_period               0.44  \n",
       "3                f                     moderate               0.07  \n",
       "4                f                     moderate               0.46  "
      ]
     },
     "execution_count": 15,
     "metadata": {},
     "output_type": "execute_result"
    }
   ],
   "source": [
    "df_short = df[df.neighbourhood_cleansed.isin(top_neighbourhoods)]\n",
    "df_short.head()"
   ]
  },
  {
   "cell_type": "markdown",
   "metadata": {},
   "source": [
    "Tutkitaan hintaa ja havaitaan kohtuu jyrkkä hinnannousu kalleimmassa osassa."
   ]
  },
  {
   "cell_type": "code",
   "execution_count": 16,
   "metadata": {
    "scrolled": true
   },
   "outputs": [
    {
     "data": {
      "text/html": [
       "<div>\n",
       "<style scoped>\n",
       "    .dataframe tbody tr th:only-of-type {\n",
       "        vertical-align: middle;\n",
       "    }\n",
       "\n",
       "    .dataframe tbody tr th {\n",
       "        vertical-align: top;\n",
       "    }\n",
       "\n",
       "    .dataframe thead th {\n",
       "        text-align: right;\n",
       "    }\n",
       "</style>\n",
       "<table border=\"1\" class=\"dataframe\">\n",
       "  <thead>\n",
       "    <tr style=\"text-align: right;\">\n",
       "      <th></th>\n",
       "      <th>Unnamed: 0</th>\n",
       "      <th>neighbourhood_cleansed</th>\n",
       "      <th>room_type</th>\n",
       "      <th>accommodates</th>\n",
       "      <th>bedrooms</th>\n",
       "      <th>beds</th>\n",
       "      <th>price</th>\n",
       "      <th>availability_30</th>\n",
       "      <th>number_of_reviews</th>\n",
       "      <th>review_scores_rating</th>\n",
       "      <th>instant_bookable</th>\n",
       "      <th>cancellation_policy</th>\n",
       "      <th>reviews_per_month</th>\n",
       "    </tr>\n",
       "  </thead>\n",
       "  <tbody>\n",
       "    <tr>\n",
       "      <td>3501</td>\n",
       "      <td>3501</td>\n",
       "      <td>Nordstrand</td>\n",
       "      <td>Entire home/apt</td>\n",
       "      <td>5</td>\n",
       "      <td>3.0</td>\n",
       "      <td>3.0</td>\n",
       "      <td>90806.0</td>\n",
       "      <td>29</td>\n",
       "      <td>0</td>\n",
       "      <td>NaN</td>\n",
       "      <td>f</td>\n",
       "      <td>flexible</td>\n",
       "      <td>NaN</td>\n",
       "    </tr>\n",
       "    <tr>\n",
       "      <td>968</td>\n",
       "      <td>968</td>\n",
       "      <td>St. Hanshaugen</td>\n",
       "      <td>Private room</td>\n",
       "      <td>2</td>\n",
       "      <td>1.0</td>\n",
       "      <td>2.0</td>\n",
       "      <td>80000.0</td>\n",
       "      <td>29</td>\n",
       "      <td>69</td>\n",
       "      <td>99.0</td>\n",
       "      <td>f</td>\n",
       "      <td>strict_14_with_grace_period</td>\n",
       "      <td>1.38</td>\n",
       "    </tr>\n",
       "    <tr>\n",
       "      <td>4203</td>\n",
       "      <td>4203</td>\n",
       "      <td>Sentrum</td>\n",
       "      <td>Entire home/apt</td>\n",
       "      <td>4</td>\n",
       "      <td>2.0</td>\n",
       "      <td>2.0</td>\n",
       "      <td>69721.0</td>\n",
       "      <td>0</td>\n",
       "      <td>2</td>\n",
       "      <td>100.0</td>\n",
       "      <td>f</td>\n",
       "      <td>flexible</td>\n",
       "      <td>0.74</td>\n",
       "    </tr>\n",
       "    <tr>\n",
       "      <td>5544</td>\n",
       "      <td>5544</td>\n",
       "      <td>Frogner</td>\n",
       "      <td>Entire home/apt</td>\n",
       "      <td>8</td>\n",
       "      <td>4.0</td>\n",
       "      <td>6.0</td>\n",
       "      <td>30002.0</td>\n",
       "      <td>30</td>\n",
       "      <td>0</td>\n",
       "      <td>NaN</td>\n",
       "      <td>f</td>\n",
       "      <td>flexible</td>\n",
       "      <td>NaN</td>\n",
       "    </tr>\n",
       "    <tr>\n",
       "      <td>6950</td>\n",
       "      <td>6950</td>\n",
       "      <td>Sagene</td>\n",
       "      <td>Entire home/apt</td>\n",
       "      <td>4</td>\n",
       "      <td>2.0</td>\n",
       "      <td>4.0</td>\n",
       "      <td>17371.0</td>\n",
       "      <td>30</td>\n",
       "      <td>0</td>\n",
       "      <td>NaN</td>\n",
       "      <td>t</td>\n",
       "      <td>moderate</td>\n",
       "      <td>NaN</td>\n",
       "    </tr>\n",
       "    <tr>\n",
       "      <td>4015</td>\n",
       "      <td>4015</td>\n",
       "      <td>Gamle Oslo</td>\n",
       "      <td>Entire home/apt</td>\n",
       "      <td>6</td>\n",
       "      <td>3.0</td>\n",
       "      <td>3.0</td>\n",
       "      <td>15001.0</td>\n",
       "      <td>27</td>\n",
       "      <td>3</td>\n",
       "      <td>100.0</td>\n",
       "      <td>t</td>\n",
       "      <td>strict_14_with_grace_period</td>\n",
       "      <td>0.12</td>\n",
       "    </tr>\n",
       "    <tr>\n",
       "      <td>13</td>\n",
       "      <td>13</td>\n",
       "      <td>Sagene</td>\n",
       "      <td>Entire home/apt</td>\n",
       "      <td>6</td>\n",
       "      <td>2.0</td>\n",
       "      <td>2.0</td>\n",
       "      <td>14520.0</td>\n",
       "      <td>29</td>\n",
       "      <td>36</td>\n",
       "      <td>97.0</td>\n",
       "      <td>t</td>\n",
       "      <td>moderate</td>\n",
       "      <td>0.36</td>\n",
       "    </tr>\n",
       "    <tr>\n",
       "      <td>3620</td>\n",
       "      <td>3620</td>\n",
       "      <td>Vestre Aker</td>\n",
       "      <td>Entire home/apt</td>\n",
       "      <td>16</td>\n",
       "      <td>8.0</td>\n",
       "      <td>16.0</td>\n",
       "      <td>11995.0</td>\n",
       "      <td>29</td>\n",
       "      <td>3</td>\n",
       "      <td>100.0</td>\n",
       "      <td>f</td>\n",
       "      <td>strict_14_with_grace_period</td>\n",
       "      <td>0.10</td>\n",
       "    </tr>\n",
       "    <tr>\n",
       "      <td>3538</td>\n",
       "      <td>3538</td>\n",
       "      <td>Nordre Aker</td>\n",
       "      <td>Private room</td>\n",
       "      <td>2</td>\n",
       "      <td>0.0</td>\n",
       "      <td>1.0</td>\n",
       "      <td>10007.0</td>\n",
       "      <td>29</td>\n",
       "      <td>0</td>\n",
       "      <td>NaN</td>\n",
       "      <td>t</td>\n",
       "      <td>flexible</td>\n",
       "      <td>NaN</td>\n",
       "    </tr>\n",
       "    <tr>\n",
       "      <td>6600</td>\n",
       "      <td>6600</td>\n",
       "      <td>Sagene</td>\n",
       "      <td>Entire home/apt</td>\n",
       "      <td>1</td>\n",
       "      <td>0.0</td>\n",
       "      <td>3.0</td>\n",
       "      <td>9998.0</td>\n",
       "      <td>28</td>\n",
       "      <td>0</td>\n",
       "      <td>NaN</td>\n",
       "      <td>t</td>\n",
       "      <td>flexible</td>\n",
       "      <td>NaN</td>\n",
       "    </tr>\n",
       "    <tr>\n",
       "      <td>4276</td>\n",
       "      <td>4276</td>\n",
       "      <td>St. Hanshaugen</td>\n",
       "      <td>Entire home/apt</td>\n",
       "      <td>2</td>\n",
       "      <td>1.0</td>\n",
       "      <td>1.0</td>\n",
       "      <td>9998.0</td>\n",
       "      <td>30</td>\n",
       "      <td>3</td>\n",
       "      <td>100.0</td>\n",
       "      <td>t</td>\n",
       "      <td>flexible</td>\n",
       "      <td>0.11</td>\n",
       "    </tr>\n",
       "    <tr>\n",
       "      <td>1250</td>\n",
       "      <td>1250</td>\n",
       "      <td>Ullern</td>\n",
       "      <td>Entire home/apt</td>\n",
       "      <td>4</td>\n",
       "      <td>1.0</td>\n",
       "      <td>2.0</td>\n",
       "      <td>9998.0</td>\n",
       "      <td>0</td>\n",
       "      <td>8</td>\n",
       "      <td>95.0</td>\n",
       "      <td>f</td>\n",
       "      <td>strict_14_with_grace_period</td>\n",
       "      <td>0.16</td>\n",
       "    </tr>\n",
       "    <tr>\n",
       "      <td>6935</td>\n",
       "      <td>6935</td>\n",
       "      <td>Frogner</td>\n",
       "      <td>Entire home/apt</td>\n",
       "      <td>4</td>\n",
       "      <td>2.0</td>\n",
       "      <td>2.0</td>\n",
       "      <td>9489.0</td>\n",
       "      <td>29</td>\n",
       "      <td>2</td>\n",
       "      <td>100.0</td>\n",
       "      <td>f</td>\n",
       "      <td>strict_14_with_grace_period</td>\n",
       "      <td>0.44</td>\n",
       "    </tr>\n",
       "    <tr>\n",
       "      <td>1671</td>\n",
       "      <td>1671</td>\n",
       "      <td>Frogner</td>\n",
       "      <td>Entire home/apt</td>\n",
       "      <td>4</td>\n",
       "      <td>3.0</td>\n",
       "      <td>3.0</td>\n",
       "      <td>9081.0</td>\n",
       "      <td>0</td>\n",
       "      <td>3</td>\n",
       "      <td>100.0</td>\n",
       "      <td>f</td>\n",
       "      <td>flexible</td>\n",
       "      <td>0.08</td>\n",
       "    </tr>\n",
       "    <tr>\n",
       "      <td>3878</td>\n",
       "      <td>3878</td>\n",
       "      <td>Frogner</td>\n",
       "      <td>Entire home/apt</td>\n",
       "      <td>6</td>\n",
       "      <td>3.0</td>\n",
       "      <td>6.0</td>\n",
       "      <td>8990.0</td>\n",
       "      <td>0</td>\n",
       "      <td>2</td>\n",
       "      <td>90.0</td>\n",
       "      <td>f</td>\n",
       "      <td>flexible</td>\n",
       "      <td>0.07</td>\n",
       "    </tr>\n",
       "    <tr>\n",
       "      <td>5228</td>\n",
       "      <td>5228</td>\n",
       "      <td>Frogner</td>\n",
       "      <td>Entire home/apt</td>\n",
       "      <td>8</td>\n",
       "      <td>4.0</td>\n",
       "      <td>4.0</td>\n",
       "      <td>8000.0</td>\n",
       "      <td>23</td>\n",
       "      <td>1</td>\n",
       "      <td>100.0</td>\n",
       "      <td>f</td>\n",
       "      <td>strict_14_with_grace_period</td>\n",
       "      <td>0.23</td>\n",
       "    </tr>\n",
       "    <tr>\n",
       "      <td>7058</td>\n",
       "      <td>7058</td>\n",
       "      <td>St. Hanshaugen</td>\n",
       "      <td>Entire home/apt</td>\n",
       "      <td>16</td>\n",
       "      <td>6.0</td>\n",
       "      <td>11.0</td>\n",
       "      <td>8000.0</td>\n",
       "      <td>0</td>\n",
       "      <td>0</td>\n",
       "      <td>NaN</td>\n",
       "      <td>f</td>\n",
       "      <td>strict_14_with_grace_period</td>\n",
       "      <td>NaN</td>\n",
       "    </tr>\n",
       "    <tr>\n",
       "      <td>7702</td>\n",
       "      <td>7702</td>\n",
       "      <td>Østensjø</td>\n",
       "      <td>Private room</td>\n",
       "      <td>4</td>\n",
       "      <td>2.0</td>\n",
       "      <td>2.0</td>\n",
       "      <td>8000.0</td>\n",
       "      <td>0</td>\n",
       "      <td>3</td>\n",
       "      <td>87.0</td>\n",
       "      <td>t</td>\n",
       "      <td>flexible</td>\n",
       "      <td>1.13</td>\n",
       "    </tr>\n",
       "    <tr>\n",
       "      <td>1257</td>\n",
       "      <td>1257</td>\n",
       "      <td>St. Hanshaugen</td>\n",
       "      <td>Private room</td>\n",
       "      <td>6</td>\n",
       "      <td>4.0</td>\n",
       "      <td>4.0</td>\n",
       "      <td>7037.0</td>\n",
       "      <td>29</td>\n",
       "      <td>3</td>\n",
       "      <td>NaN</td>\n",
       "      <td>t</td>\n",
       "      <td>flexible</td>\n",
       "      <td>0.06</td>\n",
       "    </tr>\n",
       "    <tr>\n",
       "      <td>6658</td>\n",
       "      <td>6658</td>\n",
       "      <td>St. Hanshaugen</td>\n",
       "      <td>Entire home/apt</td>\n",
       "      <td>2</td>\n",
       "      <td>1.0</td>\n",
       "      <td>1.0</td>\n",
       "      <td>7001.0</td>\n",
       "      <td>0</td>\n",
       "      <td>10</td>\n",
       "      <td>100.0</td>\n",
       "      <td>f</td>\n",
       "      <td>flexible</td>\n",
       "      <td>0.95</td>\n",
       "    </tr>\n",
       "  </tbody>\n",
       "</table>\n",
       "</div>"
      ],
      "text/plain": [
       "      Unnamed: 0 neighbourhood_cleansed        room_type  accommodates  \\\n",
       "3501        3501             Nordstrand  Entire home/apt             5   \n",
       "968          968         St. Hanshaugen     Private room             2   \n",
       "4203        4203                Sentrum  Entire home/apt             4   \n",
       "5544        5544                Frogner  Entire home/apt             8   \n",
       "6950        6950                 Sagene  Entire home/apt             4   \n",
       "4015        4015             Gamle Oslo  Entire home/apt             6   \n",
       "13            13                 Sagene  Entire home/apt             6   \n",
       "3620        3620            Vestre Aker  Entire home/apt            16   \n",
       "3538        3538            Nordre Aker     Private room             2   \n",
       "6600        6600                 Sagene  Entire home/apt             1   \n",
       "4276        4276         St. Hanshaugen  Entire home/apt             2   \n",
       "1250        1250                 Ullern  Entire home/apt             4   \n",
       "6935        6935                Frogner  Entire home/apt             4   \n",
       "1671        1671                Frogner  Entire home/apt             4   \n",
       "3878        3878                Frogner  Entire home/apt             6   \n",
       "5228        5228                Frogner  Entire home/apt             8   \n",
       "7058        7058         St. Hanshaugen  Entire home/apt            16   \n",
       "7702        7702               Østensjø     Private room             4   \n",
       "1257        1257         St. Hanshaugen     Private room             6   \n",
       "6658        6658         St. Hanshaugen  Entire home/apt             2   \n",
       "\n",
       "      bedrooms  beds    price  availability_30  number_of_reviews  \\\n",
       "3501       3.0   3.0  90806.0               29                  0   \n",
       "968        1.0   2.0  80000.0               29                 69   \n",
       "4203       2.0   2.0  69721.0                0                  2   \n",
       "5544       4.0   6.0  30002.0               30                  0   \n",
       "6950       2.0   4.0  17371.0               30                  0   \n",
       "4015       3.0   3.0  15001.0               27                  3   \n",
       "13         2.0   2.0  14520.0               29                 36   \n",
       "3620       8.0  16.0  11995.0               29                  3   \n",
       "3538       0.0   1.0  10007.0               29                  0   \n",
       "6600       0.0   3.0   9998.0               28                  0   \n",
       "4276       1.0   1.0   9998.0               30                  3   \n",
       "1250       1.0   2.0   9998.0                0                  8   \n",
       "6935       2.0   2.0   9489.0               29                  2   \n",
       "1671       3.0   3.0   9081.0                0                  3   \n",
       "3878       3.0   6.0   8990.0                0                  2   \n",
       "5228       4.0   4.0   8000.0               23                  1   \n",
       "7058       6.0  11.0   8000.0                0                  0   \n",
       "7702       2.0   2.0   8000.0                0                  3   \n",
       "1257       4.0   4.0   7037.0               29                  3   \n",
       "6658       1.0   1.0   7001.0                0                 10   \n",
       "\n",
       "      review_scores_rating instant_bookable          cancellation_policy  \\\n",
       "3501                   NaN                f                     flexible   \n",
       "968                   99.0                f  strict_14_with_grace_period   \n",
       "4203                 100.0                f                     flexible   \n",
       "5544                   NaN                f                     flexible   \n",
       "6950                   NaN                t                     moderate   \n",
       "4015                 100.0                t  strict_14_with_grace_period   \n",
       "13                    97.0                t                     moderate   \n",
       "3620                 100.0                f  strict_14_with_grace_period   \n",
       "3538                   NaN                t                     flexible   \n",
       "6600                   NaN                t                     flexible   \n",
       "4276                 100.0                t                     flexible   \n",
       "1250                  95.0                f  strict_14_with_grace_period   \n",
       "6935                 100.0                f  strict_14_with_grace_period   \n",
       "1671                 100.0                f                     flexible   \n",
       "3878                  90.0                f                     flexible   \n",
       "5228                 100.0                f  strict_14_with_grace_period   \n",
       "7058                   NaN                f  strict_14_with_grace_period   \n",
       "7702                  87.0                t                     flexible   \n",
       "1257                   NaN                t                     flexible   \n",
       "6658                 100.0                f                     flexible   \n",
       "\n",
       "      reviews_per_month  \n",
       "3501                NaN  \n",
       "968                1.38  \n",
       "4203               0.74  \n",
       "5544                NaN  \n",
       "6950                NaN  \n",
       "4015               0.12  \n",
       "13                 0.36  \n",
       "3620               0.10  \n",
       "3538                NaN  \n",
       "6600                NaN  \n",
       "4276               0.11  \n",
       "1250               0.16  \n",
       "6935               0.44  \n",
       "1671               0.08  \n",
       "3878               0.07  \n",
       "5228               0.23  \n",
       "7058                NaN  \n",
       "7702               1.13  \n",
       "1257               0.06  \n",
       "6658               0.95  "
      ]
     },
     "execution_count": 16,
     "metadata": {},
     "output_type": "execute_result"
    }
   ],
   "source": [
    "df.sort_values(by=['price'], ascending=False).head(20)"
   ]
  },
  {
   "cell_type": "markdown",
   "metadata": {},
   "source": [
    "Poistetaan yli 14 000 hintaiset asunnot, ja tutkitaan hintarakennetta. "
   ]
  },
  {
   "cell_type": "code",
   "execution_count": 17,
   "metadata": {},
   "outputs": [
    {
     "data": {
      "text/plain": [
       "count     7685.000000\n",
       "mean       894.304880\n",
       "std        656.371793\n",
       "min         82.000000\n",
       "25%        545.000000\n",
       "50%        754.000000\n",
       "75%        999.000000\n",
       "max      11995.000000\n",
       "Name: price, dtype: float64"
      ]
     },
     "execution_count": 17,
     "metadata": {},
     "output_type": "execute_result"
    }
   ],
   "source": [
    "df_short = df_short[df_short.price <= 14000]\n",
    "df_short.price.describe()"
   ]
  },
  {
   "cell_type": "code",
   "execution_count": 18,
   "metadata": {},
   "outputs": [
    {
     "data": {
      "image/png": "[encoded data removed]",
      "text/plain": [
       "<Figure size 1152x432 with 1 Axes>"
      ]
     },
     "metadata": {},
     "output_type": "display_data"
    }
   ],
   "source": [
    "import seaborn as sns\n",
    "sns.set(style=\"whitegrid\")\n",
    "ax = sns.boxplot(x='neighbourhood_cleansed', y='price', data=df_short,)"
   ]
  },
  {
   "cell_type": "markdown",
   "metadata": {},
   "source": [
    "Siivotaan, 'number_reviews' ja 'reviews_per_month' poistetaan 'NaN' arvot. Korvataan puuttuvat arvot 'reviews_per_month' nollalla 0 jossa oli alunperin NaN. \n",
    "\n",
    "Poistetaan rivit joissa makuuhuoneiden määrä on nolla"
   ]
  },
  {
   "cell_type": "code",
   "execution_count": 19,
   "metadata": {},
   "outputs": [
    {
     "data": {
      "text/html": [
       "<div>\n",
       "<style scoped>\n",
       "    .dataframe tbody tr th:only-of-type {\n",
       "        vertical-align: middle;\n",
       "    }\n",
       "\n",
       "    .dataframe tbody tr th {\n",
       "        vertical-align: top;\n",
       "    }\n",
       "\n",
       "    .dataframe thead th {\n",
       "        text-align: right;\n",
       "    }\n",
       "</style>\n",
       "<table border=\"1\" class=\"dataframe\">\n",
       "  <thead>\n",
       "    <tr style=\"text-align: right;\">\n",
       "      <th></th>\n",
       "      <th>Unnamed: 0</th>\n",
       "      <th>neighbourhood_cleansed</th>\n",
       "      <th>room_type</th>\n",
       "      <th>accommodates</th>\n",
       "      <th>bedrooms</th>\n",
       "      <th>beds</th>\n",
       "      <th>price</th>\n",
       "      <th>availability_30</th>\n",
       "      <th>number_of_reviews</th>\n",
       "      <th>review_scores_rating</th>\n",
       "      <th>instant_bookable</th>\n",
       "      <th>cancellation_policy</th>\n",
       "      <th>reviews_per_month</th>\n",
       "    </tr>\n",
       "  </thead>\n",
       "  <tbody>\n",
       "    <tr>\n",
       "      <td>3501</td>\n",
       "      <td>3501</td>\n",
       "      <td>Nordstrand</td>\n",
       "      <td>Entire home/apt</td>\n",
       "      <td>5</td>\n",
       "      <td>3.0</td>\n",
       "      <td>3.0</td>\n",
       "      <td>90806.0</td>\n",
       "      <td>29</td>\n",
       "      <td>0</td>\n",
       "      <td>NaN</td>\n",
       "      <td>f</td>\n",
       "      <td>flexible</td>\n",
       "      <td>NaN</td>\n",
       "    </tr>\n",
       "    <tr>\n",
       "      <td>968</td>\n",
       "      <td>968</td>\n",
       "      <td>St. Hanshaugen</td>\n",
       "      <td>Private room</td>\n",
       "      <td>2</td>\n",
       "      <td>1.0</td>\n",
       "      <td>2.0</td>\n",
       "      <td>80000.0</td>\n",
       "      <td>29</td>\n",
       "      <td>69</td>\n",
       "      <td>99.0</td>\n",
       "      <td>f</td>\n",
       "      <td>strict_14_with_grace_period</td>\n",
       "      <td>1.38</td>\n",
       "    </tr>\n",
       "    <tr>\n",
       "      <td>4203</td>\n",
       "      <td>4203</td>\n",
       "      <td>Sentrum</td>\n",
       "      <td>Entire home/apt</td>\n",
       "      <td>4</td>\n",
       "      <td>2.0</td>\n",
       "      <td>2.0</td>\n",
       "      <td>69721.0</td>\n",
       "      <td>0</td>\n",
       "      <td>2</td>\n",
       "      <td>100.0</td>\n",
       "      <td>f</td>\n",
       "      <td>flexible</td>\n",
       "      <td>0.74</td>\n",
       "    </tr>\n",
       "    <tr>\n",
       "      <td>5544</td>\n",
       "      <td>5544</td>\n",
       "      <td>Frogner</td>\n",
       "      <td>Entire home/apt</td>\n",
       "      <td>8</td>\n",
       "      <td>4.0</td>\n",
       "      <td>6.0</td>\n",
       "      <td>30002.0</td>\n",
       "      <td>30</td>\n",
       "      <td>0</td>\n",
       "      <td>NaN</td>\n",
       "      <td>f</td>\n",
       "      <td>flexible</td>\n",
       "      <td>NaN</td>\n",
       "    </tr>\n",
       "    <tr>\n",
       "      <td>6950</td>\n",
       "      <td>6950</td>\n",
       "      <td>Sagene</td>\n",
       "      <td>Entire home/apt</td>\n",
       "      <td>4</td>\n",
       "      <td>2.0</td>\n",
       "      <td>4.0</td>\n",
       "      <td>17371.0</td>\n",
       "      <td>30</td>\n",
       "      <td>0</td>\n",
       "      <td>NaN</td>\n",
       "      <td>t</td>\n",
       "      <td>moderate</td>\n",
       "      <td>NaN</td>\n",
       "    </tr>\n",
       "    <tr>\n",
       "      <td>4015</td>\n",
       "      <td>4015</td>\n",
       "      <td>Gamle Oslo</td>\n",
       "      <td>Entire home/apt</td>\n",
       "      <td>6</td>\n",
       "      <td>3.0</td>\n",
       "      <td>3.0</td>\n",
       "      <td>15001.0</td>\n",
       "      <td>27</td>\n",
       "      <td>3</td>\n",
       "      <td>100.0</td>\n",
       "      <td>t</td>\n",
       "      <td>strict_14_with_grace_period</td>\n",
       "      <td>0.12</td>\n",
       "    </tr>\n",
       "    <tr>\n",
       "      <td>13</td>\n",
       "      <td>13</td>\n",
       "      <td>Sagene</td>\n",
       "      <td>Entire home/apt</td>\n",
       "      <td>6</td>\n",
       "      <td>2.0</td>\n",
       "      <td>2.0</td>\n",
       "      <td>14520.0</td>\n",
       "      <td>29</td>\n",
       "      <td>36</td>\n",
       "      <td>97.0</td>\n",
       "      <td>t</td>\n",
       "      <td>moderate</td>\n",
       "      <td>0.36</td>\n",
       "    </tr>\n",
       "    <tr>\n",
       "      <td>3620</td>\n",
       "      <td>3620</td>\n",
       "      <td>Vestre Aker</td>\n",
       "      <td>Entire home/apt</td>\n",
       "      <td>16</td>\n",
       "      <td>8.0</td>\n",
       "      <td>16.0</td>\n",
       "      <td>11995.0</td>\n",
       "      <td>29</td>\n",
       "      <td>3</td>\n",
       "      <td>100.0</td>\n",
       "      <td>f</td>\n",
       "      <td>strict_14_with_grace_period</td>\n",
       "      <td>0.10</td>\n",
       "    </tr>\n",
       "    <tr>\n",
       "      <td>3538</td>\n",
       "      <td>3538</td>\n",
       "      <td>Nordre Aker</td>\n",
       "      <td>Private room</td>\n",
       "      <td>2</td>\n",
       "      <td>0.0</td>\n",
       "      <td>1.0</td>\n",
       "      <td>10007.0</td>\n",
       "      <td>29</td>\n",
       "      <td>0</td>\n",
       "      <td>NaN</td>\n",
       "      <td>t</td>\n",
       "      <td>flexible</td>\n",
       "      <td>NaN</td>\n",
       "    </tr>\n",
       "    <tr>\n",
       "      <td>6600</td>\n",
       "      <td>6600</td>\n",
       "      <td>Sagene</td>\n",
       "      <td>Entire home/apt</td>\n",
       "      <td>1</td>\n",
       "      <td>0.0</td>\n",
       "      <td>3.0</td>\n",
       "      <td>9998.0</td>\n",
       "      <td>28</td>\n",
       "      <td>0</td>\n",
       "      <td>NaN</td>\n",
       "      <td>t</td>\n",
       "      <td>flexible</td>\n",
       "      <td>NaN</td>\n",
       "    </tr>\n",
       "    <tr>\n",
       "      <td>4276</td>\n",
       "      <td>4276</td>\n",
       "      <td>St. Hanshaugen</td>\n",
       "      <td>Entire home/apt</td>\n",
       "      <td>2</td>\n",
       "      <td>1.0</td>\n",
       "      <td>1.0</td>\n",
       "      <td>9998.0</td>\n",
       "      <td>30</td>\n",
       "      <td>3</td>\n",
       "      <td>100.0</td>\n",
       "      <td>t</td>\n",
       "      <td>flexible</td>\n",
       "      <td>0.11</td>\n",
       "    </tr>\n",
       "    <tr>\n",
       "      <td>1250</td>\n",
       "      <td>1250</td>\n",
       "      <td>Ullern</td>\n",
       "      <td>Entire home/apt</td>\n",
       "      <td>4</td>\n",
       "      <td>1.0</td>\n",
       "      <td>2.0</td>\n",
       "      <td>9998.0</td>\n",
       "      <td>0</td>\n",
       "      <td>8</td>\n",
       "      <td>95.0</td>\n",
       "      <td>f</td>\n",
       "      <td>strict_14_with_grace_period</td>\n",
       "      <td>0.16</td>\n",
       "    </tr>\n",
       "    <tr>\n",
       "      <td>6935</td>\n",
       "      <td>6935</td>\n",
       "      <td>Frogner</td>\n",
       "      <td>Entire home/apt</td>\n",
       "      <td>4</td>\n",
       "      <td>2.0</td>\n",
       "      <td>2.0</td>\n",
       "      <td>9489.0</td>\n",
       "      <td>29</td>\n",
       "      <td>2</td>\n",
       "      <td>100.0</td>\n",
       "      <td>f</td>\n",
       "      <td>strict_14_with_grace_period</td>\n",
       "      <td>0.44</td>\n",
       "    </tr>\n",
       "    <tr>\n",
       "      <td>1671</td>\n",
       "      <td>1671</td>\n",
       "      <td>Frogner</td>\n",
       "      <td>Entire home/apt</td>\n",
       "      <td>4</td>\n",
       "      <td>3.0</td>\n",
       "      <td>3.0</td>\n",
       "      <td>9081.0</td>\n",
       "      <td>0</td>\n",
       "      <td>3</td>\n",
       "      <td>100.0</td>\n",
       "      <td>f</td>\n",
       "      <td>flexible</td>\n",
       "      <td>0.08</td>\n",
       "    </tr>\n",
       "    <tr>\n",
       "      <td>3878</td>\n",
       "      <td>3878</td>\n",
       "      <td>Frogner</td>\n",
       "      <td>Entire home/apt</td>\n",
       "      <td>6</td>\n",
       "      <td>3.0</td>\n",
       "      <td>6.0</td>\n",
       "      <td>8990.0</td>\n",
       "      <td>0</td>\n",
       "      <td>2</td>\n",
       "      <td>90.0</td>\n",
       "      <td>f</td>\n",
       "      <td>flexible</td>\n",
       "      <td>0.07</td>\n",
       "    </tr>\n",
       "    <tr>\n",
       "      <td>5228</td>\n",
       "      <td>5228</td>\n",
       "      <td>Frogner</td>\n",
       "      <td>Entire home/apt</td>\n",
       "      <td>8</td>\n",
       "      <td>4.0</td>\n",
       "      <td>4.0</td>\n",
       "      <td>8000.0</td>\n",
       "      <td>23</td>\n",
       "      <td>1</td>\n",
       "      <td>100.0</td>\n",
       "      <td>f</td>\n",
       "      <td>strict_14_with_grace_period</td>\n",
       "      <td>0.23</td>\n",
       "    </tr>\n",
       "    <tr>\n",
       "      <td>7058</td>\n",
       "      <td>7058</td>\n",
       "      <td>St. Hanshaugen</td>\n",
       "      <td>Entire home/apt</td>\n",
       "      <td>16</td>\n",
       "      <td>6.0</td>\n",
       "      <td>11.0</td>\n",
       "      <td>8000.0</td>\n",
       "      <td>0</td>\n",
       "      <td>0</td>\n",
       "      <td>NaN</td>\n",
       "      <td>f</td>\n",
       "      <td>strict_14_with_grace_period</td>\n",
       "      <td>NaN</td>\n",
       "    </tr>\n",
       "    <tr>\n",
       "      <td>7702</td>\n",
       "      <td>7702</td>\n",
       "      <td>Østensjø</td>\n",
       "      <td>Private room</td>\n",
       "      <td>4</td>\n",
       "      <td>2.0</td>\n",
       "      <td>2.0</td>\n",
       "      <td>8000.0</td>\n",
       "      <td>0</td>\n",
       "      <td>3</td>\n",
       "      <td>87.0</td>\n",
       "      <td>t</td>\n",
       "      <td>flexible</td>\n",
       "      <td>1.13</td>\n",
       "    </tr>\n",
       "    <tr>\n",
       "      <td>1257</td>\n",
       "      <td>1257</td>\n",
       "      <td>St. Hanshaugen</td>\n",
       "      <td>Private room</td>\n",
       "      <td>6</td>\n",
       "      <td>4.0</td>\n",
       "      <td>4.0</td>\n",
       "      <td>7037.0</td>\n",
       "      <td>29</td>\n",
       "      <td>3</td>\n",
       "      <td>NaN</td>\n",
       "      <td>t</td>\n",
       "      <td>flexible</td>\n",
       "      <td>0.06</td>\n",
       "    </tr>\n",
       "    <tr>\n",
       "      <td>6658</td>\n",
       "      <td>6658</td>\n",
       "      <td>St. Hanshaugen</td>\n",
       "      <td>Entire home/apt</td>\n",
       "      <td>2</td>\n",
       "      <td>1.0</td>\n",
       "      <td>1.0</td>\n",
       "      <td>7001.0</td>\n",
       "      <td>0</td>\n",
       "      <td>10</td>\n",
       "      <td>100.0</td>\n",
       "      <td>f</td>\n",
       "      <td>flexible</td>\n",
       "      <td>0.95</td>\n",
       "    </tr>\n",
       "  </tbody>\n",
       "</table>\n",
       "</div>"
      ],
      "text/plain": [
       "      Unnamed: 0 neighbourhood_cleansed        room_type  accommodates  \\\n",
       "3501        3501             Nordstrand  Entire home/apt             5   \n",
       "968          968         St. Hanshaugen     Private room             2   \n",
       "4203        4203                Sentrum  Entire home/apt             4   \n",
       "5544        5544                Frogner  Entire home/apt             8   \n",
       "6950        6950                 Sagene  Entire home/apt             4   \n",
       "4015        4015             Gamle Oslo  Entire home/apt             6   \n",
       "13            13                 Sagene  Entire home/apt             6   \n",
       "3620        3620            Vestre Aker  Entire home/apt            16   \n",
       "3538        3538            Nordre Aker     Private room             2   \n",
       "6600        6600                 Sagene  Entire home/apt             1   \n",
       "4276        4276         St. Hanshaugen  Entire home/apt             2   \n",
       "1250        1250                 Ullern  Entire home/apt             4   \n",
       "6935        6935                Frogner  Entire home/apt             4   \n",
       "1671        1671                Frogner  Entire home/apt             4   \n",
       "3878        3878                Frogner  Entire home/apt             6   \n",
       "5228        5228                Frogner  Entire home/apt             8   \n",
       "7058        7058         St. Hanshaugen  Entire home/apt            16   \n",
       "7702        7702               Østensjø     Private room             4   \n",
       "1257        1257         St. Hanshaugen     Private room             6   \n",
       "6658        6658         St. Hanshaugen  Entire home/apt             2   \n",
       "\n",
       "      bedrooms  beds    price  availability_30  number_of_reviews  \\\n",
       "3501       3.0   3.0  90806.0               29                  0   \n",
       "968        1.0   2.0  80000.0               29                 69   \n",
       "4203       2.0   2.0  69721.0                0                  2   \n",
       "5544       4.0   6.0  30002.0               30                  0   \n",
       "6950       2.0   4.0  17371.0               30                  0   \n",
       "4015       3.0   3.0  15001.0               27                  3   \n",
       "13         2.0   2.0  14520.0               29                 36   \n",
       "3620       8.0  16.0  11995.0               29                  3   \n",
       "3538       0.0   1.0  10007.0               29                  0   \n",
       "6600       0.0   3.0   9998.0               28                  0   \n",
       "4276       1.0   1.0   9998.0               30                  3   \n",
       "1250       1.0   2.0   9998.0                0                  8   \n",
       "6935       2.0   2.0   9489.0               29                  2   \n",
       "1671       3.0   3.0   9081.0                0                  3   \n",
       "3878       3.0   6.0   8990.0                0                  2   \n",
       "5228       4.0   4.0   8000.0               23                  1   \n",
       "7058       6.0  11.0   8000.0                0                  0   \n",
       "7702       2.0   2.0   8000.0                0                  3   \n",
       "1257       4.0   4.0   7037.0               29                  3   \n",
       "6658       1.0   1.0   7001.0                0                 10   \n",
       "\n",
       "      review_scores_rating instant_bookable          cancellation_policy  \\\n",
       "3501                   NaN                f                     flexible   \n",
       "968                   99.0                f  strict_14_with_grace_period   \n",
       "4203                 100.0                f                     flexible   \n",
       "5544                   NaN                f                     flexible   \n",
       "6950                   NaN                t                     moderate   \n",
       "4015                 100.0                t  strict_14_with_grace_period   \n",
       "13                    97.0                t                     moderate   \n",
       "3620                 100.0                f  strict_14_with_grace_period   \n",
       "3538                   NaN                t                     flexible   \n",
       "6600                   NaN                t                     flexible   \n",
       "4276                 100.0                t                     flexible   \n",
       "1250                  95.0                f  strict_14_with_grace_period   \n",
       "6935                 100.0                f  strict_14_with_grace_period   \n",
       "1671                 100.0                f                     flexible   \n",
       "3878                  90.0                f                     flexible   \n",
       "5228                 100.0                f  strict_14_with_grace_period   \n",
       "7058                   NaN                f  strict_14_with_grace_period   \n",
       "7702                  87.0                t                     flexible   \n",
       "1257                   NaN                t                     flexible   \n",
       "6658                 100.0                f                     flexible   \n",
       "\n",
       "      reviews_per_month  \n",
       "3501                NaN  \n",
       "968                1.38  \n",
       "4203               0.74  \n",
       "5544                NaN  \n",
       "6950                NaN  \n",
       "4015               0.12  \n",
       "13                 0.36  \n",
       "3620               0.10  \n",
       "3538                NaN  \n",
       "6600                NaN  \n",
       "4276               0.11  \n",
       "1250               0.16  \n",
       "6935               0.44  \n",
       "1671               0.08  \n",
       "3878               0.07  \n",
       "5228               0.23  \n",
       "7058                NaN  \n",
       "7702               1.13  \n",
       "1257               0.06  \n",
       "6658               0.95  "
      ]
     },
     "execution_count": 19,
     "metadata": {},
     "output_type": "execute_result"
    }
   ],
   "source": [
    "df.sort_values(by=['price'], ascending=False).head(20)"
   ]
  },
  {
   "cell_type": "code",
   "execution_count": 20,
   "metadata": {},
   "outputs": [
    {
     "data": {
      "text/html": [
       "<div>\n",
       "<style scoped>\n",
       "    .dataframe tbody tr th:only-of-type {\n",
       "        vertical-align: middle;\n",
       "    }\n",
       "\n",
       "    .dataframe tbody tr th {\n",
       "        vertical-align: top;\n",
       "    }\n",
       "\n",
       "    .dataframe thead th {\n",
       "        text-align: right;\n",
       "    }\n",
       "</style>\n",
       "<table border=\"1\" class=\"dataframe\">\n",
       "  <thead>\n",
       "    <tr style=\"text-align: right;\">\n",
       "      <th></th>\n",
       "      <th>Unnamed: 0</th>\n",
       "      <th>neighbourhood_cleansed</th>\n",
       "      <th>room_type</th>\n",
       "      <th>accommodates</th>\n",
       "      <th>bedrooms</th>\n",
       "      <th>beds</th>\n",
       "      <th>price</th>\n",
       "      <th>availability_30</th>\n",
       "      <th>number_of_reviews</th>\n",
       "      <th>review_scores_rating</th>\n",
       "      <th>instant_bookable</th>\n",
       "      <th>cancellation_policy</th>\n",
       "      <th>reviews_per_month</th>\n",
       "    </tr>\n",
       "  </thead>\n",
       "  <tbody>\n",
       "    <tr>\n",
       "      <td>8572</td>\n",
       "      <td>8572</td>\n",
       "      <td>Frogner</td>\n",
       "      <td>Entire home/apt</td>\n",
       "      <td>3</td>\n",
       "      <td>NaN</td>\n",
       "      <td>1.0</td>\n",
       "      <td>1816.0</td>\n",
       "      <td>23</td>\n",
       "      <td>0</td>\n",
       "      <td>NaN</td>\n",
       "      <td>f</td>\n",
       "      <td>flexible</td>\n",
       "      <td>NaN</td>\n",
       "    </tr>\n",
       "    <tr>\n",
       "      <td>8573</td>\n",
       "      <td>8573</td>\n",
       "      <td>Nordre Aker</td>\n",
       "      <td>Entire home/apt</td>\n",
       "      <td>2</td>\n",
       "      <td>1.0</td>\n",
       "      <td>1.0</td>\n",
       "      <td>454.0</td>\n",
       "      <td>21</td>\n",
       "      <td>0</td>\n",
       "      <td>NaN</td>\n",
       "      <td>f</td>\n",
       "      <td>flexible</td>\n",
       "      <td>NaN</td>\n",
       "    </tr>\n",
       "    <tr>\n",
       "      <td>8574</td>\n",
       "      <td>8574</td>\n",
       "      <td>Frogner</td>\n",
       "      <td>Entire home/apt</td>\n",
       "      <td>2</td>\n",
       "      <td>1.0</td>\n",
       "      <td>1.0</td>\n",
       "      <td>953.0</td>\n",
       "      <td>24</td>\n",
       "      <td>0</td>\n",
       "      <td>NaN</td>\n",
       "      <td>f</td>\n",
       "      <td>flexible</td>\n",
       "      <td>NaN</td>\n",
       "    </tr>\n",
       "    <tr>\n",
       "      <td>8575</td>\n",
       "      <td>8575</td>\n",
       "      <td>Gamle Oslo</td>\n",
       "      <td>Entire home/apt</td>\n",
       "      <td>3</td>\n",
       "      <td>2.0</td>\n",
       "      <td>0.0</td>\n",
       "      <td>291.0</td>\n",
       "      <td>17</td>\n",
       "      <td>0</td>\n",
       "      <td>NaN</td>\n",
       "      <td>f</td>\n",
       "      <td>flexible</td>\n",
       "      <td>NaN</td>\n",
       "    </tr>\n",
       "    <tr>\n",
       "      <td>8576</td>\n",
       "      <td>8576</td>\n",
       "      <td>Grünerløkka</td>\n",
       "      <td>Entire home/apt</td>\n",
       "      <td>3</td>\n",
       "      <td>2.0</td>\n",
       "      <td>2.0</td>\n",
       "      <td>953.0</td>\n",
       "      <td>22</td>\n",
       "      <td>0</td>\n",
       "      <td>NaN</td>\n",
       "      <td>f</td>\n",
       "      <td>flexible</td>\n",
       "      <td>NaN</td>\n",
       "    </tr>\n",
       "  </tbody>\n",
       "</table>\n",
       "</div>"
      ],
      "text/plain": [
       "      Unnamed: 0 neighbourhood_cleansed        room_type  accommodates  \\\n",
       "8572        8572                Frogner  Entire home/apt             3   \n",
       "8573        8573            Nordre Aker  Entire home/apt             2   \n",
       "8574        8574                Frogner  Entire home/apt             2   \n",
       "8575        8575             Gamle Oslo  Entire home/apt             3   \n",
       "8576        8576            Grünerløkka  Entire home/apt             3   \n",
       "\n",
       "      bedrooms  beds   price  availability_30  number_of_reviews  \\\n",
       "8572       NaN   1.0  1816.0               23                  0   \n",
       "8573       1.0   1.0   454.0               21                  0   \n",
       "8574       1.0   1.0   953.0               24                  0   \n",
       "8575       2.0   0.0   291.0               17                  0   \n",
       "8576       2.0   2.0   953.0               22                  0   \n",
       "\n",
       "      review_scores_rating instant_bookable cancellation_policy  \\\n",
       "8572                   NaN                f            flexible   \n",
       "8573                   NaN                f            flexible   \n",
       "8574                   NaN                f            flexible   \n",
       "8575                   NaN                f            flexible   \n",
       "8576                   NaN                f            flexible   \n",
       "\n",
       "      reviews_per_month  \n",
       "8572                NaN  \n",
       "8573                NaN  \n",
       "8574                NaN  \n",
       "8575                NaN  \n",
       "8576                NaN  "
      ]
     },
     "execution_count": 20,
     "metadata": {},
     "output_type": "execute_result"
    }
   ],
   "source": [
    "df.tail(5)"
   ]
  },
  {
   "cell_type": "code",
   "execution_count": 21,
   "metadata": {
    "scrolled": false
   },
   "outputs": [
    {
     "data": {
      "text/plain": [
       "0"
      ]
     },
     "execution_count": 21,
     "metadata": {},
     "output_type": "execute_result"
    }
   ],
   "source": [
    "# the number of entries with 0 'number_of_reviews' which do not a NaN for 'reviews_per_month'\n",
    "len(df[(df.number_of_reviews == 0) & (pd.isnull(df.number_of_reviews) == False)\n",
    "       & (pd.isnull(df.reviews_per_month) == False)].index)"
   ]
  },
  {
   "cell_type": "code",
   "execution_count": 22,
   "metadata": {},
   "outputs": [
    {
     "data": {
      "text/plain": [
       "0"
      ]
     },
     "execution_count": 22,
     "metadata": {},
     "output_type": "execute_result"
    }
   ],
   "source": [
    "# the number of entries with at least 1 'number_of_reviews' which have a NaN for 'reviews_per_month'\n",
    "len(df[(df.number_of_reviews != 0) & (pd.isnull(df.number_of_reviews) == False)\n",
    "       & (pd.isnull(df.reviews_per_month) == True)].index)"
   ]
  },
  {
   "cell_type": "code",
   "execution_count": 23,
   "metadata": {},
   "outputs": [
    {
     "data": {
      "text/plain": [
       "6108"
      ]
     },
     "execution_count": 23,
     "metadata": {},
     "output_type": "execute_result"
    }
   ],
   "source": [
    "# so we need to do some cleaning.\n",
    "\n",
    "# first fixup 'reviews_per_month' where there are no reviews\n",
    "df['reviews_per_month'].fillna(0, inplace=True)\n",
    "\n",
    "# just drop rows with bad/weird values\n",
    "# (we could do more here)\n",
    "df = df[df.bedrooms != 0]\n",
    "df = df[df.beds != 0]\n",
    "df = df[df.price != 0]\n",
    "df = df.dropna(axis=0)\n",
    "\n",
    "len(df.index)"
   ]
  },
  {
   "cell_type": "markdown",
   "metadata": {},
   "source": [
    "Otetaan vain huoneet joissa on 1 makuuhuone."
   ]
  },
  {
   "cell_type": "code",
   "execution_count": 24,
   "metadata": {},
   "outputs": [
    {
     "data": {
      "text/plain": [
       "3861"
      ]
     },
     "execution_count": 24,
     "metadata": {},
     "output_type": "execute_result"
    }
   ],
   "source": [
    "df = df[df.bedrooms == 1]\n",
    "len(df.index)"
   ]
  },
  {
   "cell_type": "code",
   "execution_count": 25,
   "metadata": {},
   "outputs": [
    {
     "data": {
      "text/plain": [
       "1    381.0\n",
       "2    472.0\n",
       "3    999.0\n",
       "4    499.0\n",
       "7    745.0\n",
       "Name: price, dtype: float64"
      ]
     },
     "execution_count": 25,
     "metadata": {},
     "output_type": "execute_result"
    }
   ],
   "source": [
    "df.price.head(5)"
   ]
  },
  {
   "cell_type": "markdown",
   "metadata": {},
   "source": [
    "Muutetaan hinta, tosin muunnos tehtiin jo aiemmin, vaihdetaan $ merkki tyhjään ja muutetaan tyypiksi ja tulostetaan 100 suurinta arvoa. ensin kalleimmat."
   ]
  },
  {
   "cell_type": "code",
   "execution_count": 26,
   "metadata": {},
   "outputs": [
    {
     "data": {
      "text/plain": [
       "968     80000.0\n",
       "4276     9998.0\n",
       "1250     9998.0\n",
       "6658     7001.0\n",
       "194      7001.0\n",
       "         ...   \n",
       "2919     1498.0\n",
       "7580     1498.0\n",
       "3517     1498.0\n",
       "2747     1498.0\n",
       "6550     1489.0\n",
       "Name: price, Length: 100, dtype: float64"
      ]
     },
     "execution_count": 26,
     "metadata": {},
     "output_type": "execute_result"
    }
   ],
   "source": [
    "# remove the $ from the price and convert to float\n",
    "df['price'] = df['price'].replace('[\\$,)]','',  \\\n",
    "        regex=True).replace('[(]','-', regex=True).astype(float)\n",
    "df.price.sort_values(ascending=False).head(100)"
   ]
  },
  {
   "cell_type": "markdown",
   "metadata": {},
   "source": [
    "Halvimmat hinnat"
   ]
  },
  {
   "cell_type": "code",
   "execution_count": 27,
   "metadata": {},
   "outputs": [
    {
     "data": {
      "text/plain": [
       "6295    154.0\n",
       "4756    154.0\n",
       "6969    173.0\n",
       "3060    173.0\n",
       "4773    182.0\n",
       "8389    182.0\n",
       "2988    182.0\n",
       "397     182.0\n",
       "7962    182.0\n",
       "3117    191.0\n",
       "3162    191.0\n",
       "6737    200.0\n",
       "4786    200.0\n",
       "1699    200.0\n",
       "2896    200.0\n",
       "198     200.0\n",
       "7721    200.0\n",
       "4661    200.0\n",
       "4114    200.0\n",
       "3332    209.0\n",
       "3712    209.0\n",
       "4601    209.0\n",
       "5453    218.0\n",
       "703     218.0\n",
       "8255    218.0\n",
       "5298    218.0\n",
       "1862    218.0\n",
       "8201    218.0\n",
       "6961    227.0\n",
       "4859    227.0\n",
       "Name: price, dtype: float64"
      ]
     },
     "execution_count": 27,
     "metadata": {},
     "output_type": "execute_result"
    }
   ],
   "source": [
    "df.price.sort_values(ascending=True).head(30)"
   ]
  },
  {
   "cell_type": "markdown",
   "metadata": {},
   "source": [
    "Suosituimmat hinnat"
   ]
  },
  {
   "cell_type": "code",
   "execution_count": 28,
   "metadata": {},
   "outputs": [
    {
     "data": {
      "text/plain": [
       "499.0     285\n",
       "599.0     260\n",
       "699.0     207\n",
       "799.0     192\n",
       "400.0     158\n",
       "         ... \n",
       "1180.0      1\n",
       "1072.0      1\n",
       "2034.0      1\n",
       "6602.0      1\n",
       "1671.0      1\n",
       "Name: price, Length: 163, dtype: int64"
      ]
     },
     "execution_count": 28,
     "metadata": {},
     "output_type": "execute_result"
    }
   ],
   "source": [
    "df.price.value_counts()"
   ]
  },
  {
   "cell_type": "markdown",
   "metadata": {},
   "source": [
    "Jokaiselle alueelle tehdään oma sarake. Jokaiselle kaupungin osalle tehdään oma sarake jossa on 1 jos asunto sijaitsee ko. kaupunginosassa muuten arvo on nolla. sama tehdään myös huone tyypille ja perutus tavalle. Poistetaan alkuperäiset sarakkeet ja dummy muuttujat liitetään osaksi data framea."
   ]
  },
  {
   "cell_type": "code",
   "execution_count": 29,
   "metadata": {},
   "outputs": [
    {
     "data": {
      "text/html": [
       "<div>\n",
       "<style scoped>\n",
       "    .dataframe tbody tr th:only-of-type {\n",
       "        vertical-align: middle;\n",
       "    }\n",
       "\n",
       "    .dataframe tbody tr th {\n",
       "        vertical-align: top;\n",
       "    }\n",
       "\n",
       "    .dataframe thead th {\n",
       "        text-align: right;\n",
       "    }\n",
       "</style>\n",
       "<table border=\"1\" class=\"dataframe\">\n",
       "  <thead>\n",
       "    <tr style=\"text-align: right;\">\n",
       "      <th></th>\n",
       "      <th>Unnamed: 0</th>\n",
       "      <th>accommodates</th>\n",
       "      <th>bedrooms</th>\n",
       "      <th>beds</th>\n",
       "      <th>price</th>\n",
       "      <th>availability_30</th>\n",
       "      <th>number_of_reviews</th>\n",
       "      <th>review_scores_rating</th>\n",
       "      <th>reviews_per_month</th>\n",
       "      <th>Alna</th>\n",
       "      <th>...</th>\n",
       "      <th>Østensjø</th>\n",
       "      <th>Entire home/apt</th>\n",
       "      <th>Hotel room</th>\n",
       "      <th>Private room</th>\n",
       "      <th>Shared room</th>\n",
       "      <th>flexible</th>\n",
       "      <th>moderate</th>\n",
       "      <th>strict_14_with_grace_period</th>\n",
       "      <th>super_strict_30</th>\n",
       "      <th>instant_t</th>\n",
       "    </tr>\n",
       "  </thead>\n",
       "  <tbody>\n",
       "    <tr>\n",
       "      <td>1</td>\n",
       "      <td>1</td>\n",
       "      <td>3</td>\n",
       "      <td>1.0</td>\n",
       "      <td>1.0</td>\n",
       "      <td>381.0</td>\n",
       "      <td>0</td>\n",
       "      <td>36</td>\n",
       "      <td>97.0</td>\n",
       "      <td>0.70</td>\n",
       "      <td>0</td>\n",
       "      <td>...</td>\n",
       "      <td>0</td>\n",
       "      <td>0</td>\n",
       "      <td>0</td>\n",
       "      <td>1</td>\n",
       "      <td>0</td>\n",
       "      <td>0</td>\n",
       "      <td>0</td>\n",
       "      <td>1</td>\n",
       "      <td>0</td>\n",
       "      <td>1</td>\n",
       "    </tr>\n",
       "    <tr>\n",
       "      <td>2</td>\n",
       "      <td>2</td>\n",
       "      <td>1</td>\n",
       "      <td>1.0</td>\n",
       "      <td>2.0</td>\n",
       "      <td>472.0</td>\n",
       "      <td>0</td>\n",
       "      <td>47</td>\n",
       "      <td>96.0</td>\n",
       "      <td>0.44</td>\n",
       "      <td>0</td>\n",
       "      <td>...</td>\n",
       "      <td>0</td>\n",
       "      <td>0</td>\n",
       "      <td>0</td>\n",
       "      <td>1</td>\n",
       "      <td>0</td>\n",
       "      <td>0</td>\n",
       "      <td>0</td>\n",
       "      <td>1</td>\n",
       "      <td>0</td>\n",
       "      <td>0</td>\n",
       "    </tr>\n",
       "    <tr>\n",
       "      <td>3</td>\n",
       "      <td>3</td>\n",
       "      <td>3</td>\n",
       "      <td>1.0</td>\n",
       "      <td>1.0</td>\n",
       "      <td>999.0</td>\n",
       "      <td>28</td>\n",
       "      <td>7</td>\n",
       "      <td>94.0</td>\n",
       "      <td>0.07</td>\n",
       "      <td>0</td>\n",
       "      <td>...</td>\n",
       "      <td>0</td>\n",
       "      <td>1</td>\n",
       "      <td>0</td>\n",
       "      <td>0</td>\n",
       "      <td>0</td>\n",
       "      <td>0</td>\n",
       "      <td>1</td>\n",
       "      <td>0</td>\n",
       "      <td>0</td>\n",
       "      <td>0</td>\n",
       "    </tr>\n",
       "    <tr>\n",
       "      <td>4</td>\n",
       "      <td>4</td>\n",
       "      <td>3</td>\n",
       "      <td>1.0</td>\n",
       "      <td>2.0</td>\n",
       "      <td>499.0</td>\n",
       "      <td>0</td>\n",
       "      <td>48</td>\n",
       "      <td>95.0</td>\n",
       "      <td>0.46</td>\n",
       "      <td>0</td>\n",
       "      <td>...</td>\n",
       "      <td>0</td>\n",
       "      <td>0</td>\n",
       "      <td>0</td>\n",
       "      <td>1</td>\n",
       "      <td>0</td>\n",
       "      <td>0</td>\n",
       "      <td>1</td>\n",
       "      <td>0</td>\n",
       "      <td>0</td>\n",
       "      <td>0</td>\n",
       "    </tr>\n",
       "    <tr>\n",
       "      <td>7</td>\n",
       "      <td>7</td>\n",
       "      <td>2</td>\n",
       "      <td>1.0</td>\n",
       "      <td>1.0</td>\n",
       "      <td>745.0</td>\n",
       "      <td>0</td>\n",
       "      <td>10</td>\n",
       "      <td>98.0</td>\n",
       "      <td>0.22</td>\n",
       "      <td>0</td>\n",
       "      <td>...</td>\n",
       "      <td>0</td>\n",
       "      <td>1</td>\n",
       "      <td>0</td>\n",
       "      <td>0</td>\n",
       "      <td>0</td>\n",
       "      <td>0</td>\n",
       "      <td>0</td>\n",
       "      <td>1</td>\n",
       "      <td>0</td>\n",
       "      <td>0</td>\n",
       "    </tr>\n",
       "  </tbody>\n",
       "</table>\n",
       "<p>5 rows × 35 columns</p>\n",
       "</div>"
      ],
      "text/plain": [
       "   Unnamed: 0  accommodates  bedrooms  beds  price  availability_30  \\\n",
       "1           1             3       1.0   1.0  381.0                0   \n",
       "2           2             1       1.0   2.0  472.0                0   \n",
       "3           3             3       1.0   1.0  999.0               28   \n",
       "4           4             3       1.0   2.0  499.0                0   \n",
       "7           7             2       1.0   1.0  745.0                0   \n",
       "\n",
       "   number_of_reviews  review_scores_rating  reviews_per_month  Alna  ...  \\\n",
       "1                 36                  97.0               0.70     0  ...   \n",
       "2                 47                  96.0               0.44     0  ...   \n",
       "3                  7                  94.0               0.07     0  ...   \n",
       "4                 48                  95.0               0.46     0  ...   \n",
       "7                 10                  98.0               0.22     0  ...   \n",
       "\n",
       "   Østensjø  Entire home/apt  Hotel room  Private room  Shared room  flexible  \\\n",
       "1         0                0           0             1            0         0   \n",
       "2         0                0           0             1            0         0   \n",
       "3         0                1           0             0            0         0   \n",
       "4         0                0           0             1            0         0   \n",
       "7         0                1           0             0            0         0   \n",
       "\n",
       "   moderate  strict_14_with_grace_period  super_strict_30  instant_t  \n",
       "1         0                            1                0          1  \n",
       "2         0                            1                0          0  \n",
       "3         1                            0                0          0  \n",
       "4         1                            0                0          0  \n",
       "7         0                            1                0          0  \n",
       "\n",
       "[5 rows x 35 columns]"
      ]
     },
     "execution_count": 29,
     "metadata": {},
     "output_type": "execute_result"
    }
   ],
   "source": [
    "# get feature encoding for categorical variables\n",
    "n_dummies = pd.get_dummies(df.neighbourhood_cleansed)\n",
    "rt_dummies = pd.get_dummies(df.room_type)\n",
    "xcl_dummies = pd.get_dummies(df.cancellation_policy)\n",
    "\n",
    "# convert boolean column to a single boolean value indicating whether this listing has instant booking available\n",
    "ib_dummies = pd.get_dummies(df.instant_bookable, prefix=\"instant\")\n",
    "ib_dummies = ib_dummies.drop('instant_f', axis=1)\n",
    "\n",
    "# replace the old columns with our new one-hot encoded ones\n",
    "alldata = pd.concat((df.drop(['neighbourhood_cleansed', \\\n",
    "    'room_type', 'cancellation_policy', 'instant_bookable'], axis=1), \\\n",
    "    n_dummies.astype(int), rt_dummies.astype(int), \\\n",
    "    xcl_dummies.astype(int), ib_dummies.astype(int)), \\\n",
    "    axis=1)\n",
    "allcols = alldata.columns\n",
    "alldata.head(5)"
   ]
  },
  {
   "cell_type": "markdown",
   "metadata": {},
   "source": [
    "Sarakkeiden lukumäärä"
   ]
  },
  {
   "cell_type": "code",
   "execution_count": 30,
   "metadata": {},
   "outputs": [
    {
     "data": {
      "text/plain": [
       "35"
      ]
     },
     "execution_count": 30,
     "metadata": {},
     "output_type": "execute_result"
    }
   ],
   "source": [
    "len(allcols)"
   ]
  },
  {
   "cell_type": "markdown",
   "metadata": {},
   "source": [
    "Tulostetaan dataframen sarakkeet"
   ]
  },
  {
   "cell_type": "code",
   "execution_count": 31,
   "metadata": {},
   "outputs": [
    {
     "data": {
      "text/plain": [
       "0                      Unnamed: 0\n",
       "1                    accommodates\n",
       "2                        bedrooms\n",
       "3                            beds\n",
       "4                           price\n",
       "5                 availability_30\n",
       "6               number_of_reviews\n",
       "7            review_scores_rating\n",
       "8               reviews_per_month\n",
       "9                            Alna\n",
       "10                         Bjerke\n",
       "11                        Frogner\n",
       "12                     Gamle Oslo\n",
       "13                         Grorud\n",
       "14                    Grünerløkka\n",
       "15                          Marka\n",
       "16                    Nordre Aker\n",
       "17                     Nordstrand\n",
       "18                         Sagene\n",
       "19                        Sentrum\n",
       "20                 St. Hanshaugen\n",
       "21                        Stovner\n",
       "22              Søndre Nordstrand\n",
       "23                         Ullern\n",
       "24                    Vestre Aker\n",
       "25                       Østensjø\n",
       "26                Entire home/apt\n",
       "27                     Hotel room\n",
       "28                   Private room\n",
       "29                    Shared room\n",
       "30                       flexible\n",
       "31                       moderate\n",
       "32    strict_14_with_grace_period\n",
       "33                super_strict_30\n",
       "34                      instant_t\n",
       "dtype: object"
      ]
     },
     "execution_count": 31,
     "metadata": {},
     "output_type": "execute_result"
    }
   ],
   "source": [
    "pd.Series(allcols).head(35)"
   ]
  },
  {
   "cell_type": "markdown",
   "metadata": {},
   "source": [
    "Otetaan hajonta piste kaavioon```scatter_matrix``` Pandas funktiolla kentät joissa on kiinnostavia tietoja."
   ]
  },
  {
   "cell_type": "code",
   "execution_count": 32,
   "metadata": {},
   "outputs": [
    {
     "data": {
      "image/png": "[encoded data removed]",
      "text/plain": [
       "<Figure size 864x864 with 49 Axes>"
      ]
     },
     "metadata": {},
     "output_type": "display_data"
    }
   ],
   "source": [
    "scattercols = ['price','accommodates', 'number_of_reviews', 'reviews_per_month', 'beds', 'availability_30', 'review_scores_rating']\n",
    "axs = pd.plotting.scatter_matrix(alldata[scattercols],\n",
    "                        figsize=(12, 12), c='green')"
   ]
  },
  {
   "cell_type": "markdown",
   "metadata": {},
   "source": [
    "Tarkastellaan ```scatter_matrix```, jos arvioita on vähä vaihtelu on suurta. "
   ]
  },
  {
   "cell_type": "markdown",
   "metadata": {},
   "source": [
    "### Koneoppiminen Scikit-Learn and Spark avulla\n",
    "lineaarinen refgressio, ridge, lasso, Elastic Net, Bayers ridge, OMP\n",
    "pienin ja suurin virhe 160\n"
   ]
  },
  {
   "cell_type": "code",
   "execution_count": 33,
   "metadata": {},
   "outputs": [
    {
     "data": {
      "text/plain": [
       "Text(0, 0.5, 'Median Absolute Error')"
      ]
     },
     "execution_count": 33,
     "metadata": {},
     "output_type": "execute_result"
    },
    {
     "data": {
      "image/png": "[encoded data removed]",
      "text/plain": [
       "<Figure size 504x360 with 1 Axes>"
      ]
     },
     "metadata": {},
     "output_type": "display_data"
    }
   ],
   "source": [
    "rs = 1\n",
    "ests = [ linear_model.LinearRegression(), linear_model.Ridge(),\n",
    "        linear_model.Lasso(), linear_model.ElasticNet(),\n",
    "        linear_model.BayesianRidge(), linear_model.OrthogonalMatchingPursuit() ]\n",
    "ests_labels = np.array(['Linear', 'Ridge', 'Lasso', 'ElasticNet', 'BayesRidge', 'OMP'])\n",
    "errvals = np.array([])\n",
    "\n",
    "X_train, X_test, y_train, y_test = train_test_split(alldata.drop(['price'], axis=1),\n",
    "                                                    alldata.price, test_size=0.2, random_state=20)\n",
    "\n",
    "for e in ests:\n",
    "    e.fit(X_train, y_train)\n",
    "    this_err = metrics.median_absolute_error(y_test, e.predict(X_test))\n",
    "    #print \"got error %0.2f\" % this_err\n",
    "    errvals = np.append(errvals, this_err)\n",
    "\n",
    "pos = np.arange(errvals.shape[0])\n",
    "srt = np.argsort(errvals)\n",
    "plt.figure(figsize=(7,5))\n",
    "plt.bar(pos, errvals[srt], align='center')\n",
    "plt.xticks(pos, ests_labels[srt])\n",
    "plt.xlabel('Estimator')\n",
    "plt.ylabel('Median Absolute Error')"
   ]
  },
  {
   "cell_type": "markdown",
   "metadata": {},
   "source": [
    "Parannetaam mallia"
   ]
  },
  {
   "cell_type": "code",
   "execution_count": 34,
   "metadata": {},
   "outputs": [
    {
     "name": "stdout",
     "output_type": "stream",
     "text": [
      "The scikit-learn version is 0.21.3.\n"
     ]
    },
    {
     "data": {
      "text/plain": [
       "['accuracy',\n",
       " 'adjusted_mutual_info_score',\n",
       " 'adjusted_rand_score',\n",
       " 'average_precision',\n",
       " 'balanced_accuracy',\n",
       " 'brier_score_loss',\n",
       " 'completeness_score',\n",
       " 'explained_variance',\n",
       " 'f1',\n",
       " 'f1_macro',\n",
       " 'f1_micro',\n",
       " 'f1_samples',\n",
       " 'f1_weighted',\n",
       " 'fowlkes_mallows_score',\n",
       " 'homogeneity_score',\n",
       " 'jaccard',\n",
       " 'jaccard_macro',\n",
       " 'jaccard_micro',\n",
       " 'jaccard_samples',\n",
       " 'jaccard_weighted',\n",
       " 'max_error',\n",
       " 'mutual_info_score',\n",
       " 'neg_log_loss',\n",
       " 'neg_mean_absolute_error',\n",
       " 'neg_mean_squared_error',\n",
       " 'neg_mean_squared_log_error',\n",
       " 'neg_median_absolute_error',\n",
       " 'normalized_mutual_info_score',\n",
       " 'precision',\n",
       " 'precision_macro',\n",
       " 'precision_micro',\n",
       " 'precision_samples',\n",
       " 'precision_weighted',\n",
       " 'r2',\n",
       " 'recall',\n",
       " 'recall_macro',\n",
       " 'recall_micro',\n",
       " 'recall_samples',\n",
       " 'recall_weighted',\n",
       " 'roc_auc',\n",
       " 'v_measure_score']"
      ]
     },
     "execution_count": 34,
     "metadata": {},
     "output_type": "execute_result"
    }
   ],
   "source": [
    "import sklearn\n",
    "print('The scikit-learn version is {}.'.format(sklearn.__version__))\n",
    "\n",
    "sorted(sklearn.metrics.SCORERS.keys())"
   ]
  },
  {
   "cell_type": "markdown",
   "metadata": {},
   "source": [
    "Valitaan neg_mean_absolute_error"
   ]
  },
  {
   "cell_type": "code",
   "execution_count": 40,
   "metadata": {},
   "outputs": [
    {
     "data": {
      "text/plain": [
       "GradientBoostingRegressor(alpha=0.9, criterion='friedman_mse', init=None,\n",
       "                          learning_rate=0.02, loss='lad', max_depth=4,\n",
       "                          max_features=None, max_leaf_nodes=None,\n",
       "                          min_impurity_decrease=0.0, min_impurity_split=None,\n",
       "                          min_samples_leaf=1, min_samples_split=2,\n",
       "                          min_weight_fraction_leaf=0.0, n_estimators=300,\n",
       "                          n_iter_no_change=None, presort='auto',\n",
       "                          random_state=None, subsample=1.0, tol=0.0001,\n",
       "                          validation_fraction=0.1, verbose=0, warm_start=False)"
      ]
     },
     "execution_count": 40,
     "metadata": {},
     "output_type": "execute_result"
    }
   ],
   "source": [
    "n_est = 300\n",
    "\n",
    "tuned_parameters = {\n",
    "    \"n_estimators\": [ n_est ],\n",
    "    \"max_depth\" : [ 4 ],\n",
    "    \"learning_rate\": [ 0.02 ],\n",
    "    \"min_samples_split\" : [ 2 ],\n",
    "    \"loss\" : [ 'ls', 'lad' ]\n",
    "}\n",
    "\n",
    "gbr = ensemble.GradientBoostingRegressor()\n",
    "clf = GridSearchCV(gbr, cv=3, param_grid=tuned_parameters,\n",
    "        scoring='neg_median_absolute_error')\n",
    "preds = clf.fit(X_train, y_train)\n",
    "best = clf.best_estimator_\n",
    "best\n",
    "\n"
   ]
  },
  {
   "cell_type": "code",
   "execution_count": 41,
   "metadata": {},
   "outputs": [
    {
     "data": {
      "text/plain": [
       "116.79062639784196"
      ]
     },
     "execution_count": 41,
     "metadata": {},
     "output_type": "execute_result"
    }
   ],
   "source": [
    "abs(clf.best_score_)\n"
   ]
  },
  {
   "cell_type": "markdown",
   "metadata": {},
   "source": [
    "keskimääräinen virhe $117.41.\n",
    "\n",
    "Already, it looks like we're doing better with GradientBoostingRegressor than we were with any of the prior attempts. Without doing any tuning, the median error is around 20% less than the best error of the previous group (with BayesRidge()).\n",
    "\n",
    "Let's get a quick measure of how the error is affected by each round of boosting, so we can see if throwing more iterations at the problem is going to help."
   ]
  },
  {
   "cell_type": "code",
   "execution_count": 42,
   "metadata": {},
   "outputs": [
    {
     "data": {
      "text/plain": [
       "Text(0, 0.5, 'Least Absolute Deviation')"
      ]
     },
     "execution_count": 42,
     "metadata": {},
     "output_type": "execute_result"
    },
    {
     "data": {
      "image/png": "[encoded data removed]",
      "text/plain": [
       "<Figure size 864x432 with 1 Axes>"
      ]
     },
     "metadata": {},
     "output_type": "display_data"
    }
   ],
   "source": [
    "# plot error for each round of boosting\n",
    "test_score = np.zeros(n_est, dtype=np.float64)\n",
    "\n",
    "train_score = best.train_score_\n",
    "for i, y_pred in enumerate(best.staged_predict(X_test)):\n",
    "    test_score[i] = best.loss_(y_test, y_pred)\n",
    "\n",
    "plt.figure(figsize=(12, 6))\n",
    "plt.subplot(1, 2, 1)\n",
    "plt.plot(np.arange(n_est), train_score, 'darkblue', label='Training Set Error')\n",
    "plt.plot(np.arange(n_est), test_score, 'red', label='Test Set Error')\n",
    "plt.legend(loc='upper right')\n",
    "plt.xlabel('Boosting Iterations')\n",
    "plt.ylabel('Least Absolute Deviation')"
   ]
  },
  {
   "cell_type": "markdown",
   "metadata": {},
   "source": [
    "Ominaisuuden merkitykset"
   ]
  },
  {
   "cell_type": "markdown",
   "metadata": {},
   "source": [
    "It looks like the curve is flattening near the right side of the plot (after around 200-250 iterations), but is still benefitting from more iterations, so we could increase the iterations to 500 without much thought.\n",
    "\n",
    "Now we can do some tuning with GridSearchCV and explore more of the hyperparameter combinations. However, this requires some serious CPU and a complete run of all of the combinations can easily take hours to finish, even on a small number of rows.\n",
    "\n",
    "By simply replacing the following lines in our file, we can use the new spark-sklearn integration package running on the [MapR 5.1 platform with Spark as a YARN client](http://maprdocs.mapr.com/51/index.html#Spark/SparkonYARN.html) to distribute the iterations across the machines in a cluster. This allows us to test more hyperparameter combinations, ultimately reducing error, and we can do it all in less time.\n",
    "\n",
    "```\n",
    "from pyspark import SparkContext, SparkConf\n",
    "from spark_sklearn import GridSearchCV\n",
    "\n",
    "conf = SparkConf()\n",
    "sc = SparkContext(conf=conf)\n",
    "clf = GridSearchCV(sc, gbr, cv=3, param_grid=tuned_parameters, scoring='median_absolute_error')\n",
    "```\n",
    "\n",
    "You can then run the script in this notebook with the following command, setting --num-executors and --executor-cores to suit your Spark environment:\n",
    "\n",
    "```\n",
    "time MASTER=yarn-client /opt/mapr/spark/spark-1.5.2/bin/spark-submit --num-executors=2 --executor-cores=8 python_scikit_airbnb.py\n",
    "```\n",
    "\n",
    "It's worth pausing here to note that the architecture of this approach is different than that used by MLlib in Spark. Using spark-sklearn, we're simply distributing the cross-validation run of each model (with a specific combination of hyperparameters) across each Spark executor. Spark MLlib, on the other hand, will distribute the internals of the actual learning algorithms across the cluster.\n",
    "The main advantage of spark-sklearn is that it enables leveraging the very rich set of machine learning algorithms in scikit-learn. These algorithms do not run natively on a cluster (although they can be parallelized on a single machine) and by adding Spark, we can unlock a lot more horsepower than could ordinarily be used.\n",
    "\n",
    "**Using this approach we can get the error down even further, to $21.43**, with a substantial reduction in time."
   ]
  },
  {
   "cell_type": "markdown",
   "metadata": {},
   "source": [
    "Ominaisuuksia vaikutus, mikä vaikuttaa eniten. "
   ]
  },
  {
   "cell_type": "code",
   "execution_count": 38,
   "metadata": {},
   "outputs": [
    {
     "data": {
      "text/plain": [
       "Text(0.5, 1.0, 'Variable Importance')"
      ]
     },
     "execution_count": 38,
     "metadata": {},
     "output_type": "execute_result"
    },
    {
     "data": {
      "image/png": "[encoded data removed]",
      "text/plain": [
       "<Figure size 576x864 with 1 Axes>"
      ]
     },
     "metadata": {},
     "output_type": "display_data"
    }
   ],
   "source": [
    "feature_importance = clf.best_estimator_.feature_importances_\n",
    "# make importances relative to max importance\n",
    "feature_importance = 100.0 * (feature_importance / feature_importance.max())\n",
    "sorted_idx = np.argsort(feature_importance)\n",
    "pos = np.arange(sorted_idx.shape[0]) + .5\n",
    "pvals = feature_importance[sorted_idx]\n",
    "pcols = X_train.columns[sorted_idx]\n",
    "plt.figure(figsize=(8,12))\n",
    "plt.barh(pos, pvals, align='center')\n",
    "plt.yticks(pos, pcols)\n",
    "plt.xlabel('Relative Importance')\n",
    "plt.title('Variable Importance')"
   ]
  },
  {
   "cell_type": "markdown",
   "metadata": {
    "collapsed": true
   },
   "source": [
    "### Conclusions\n",
    "\n",
    "In this example we looked at how to predict the price using multiple factors, then scale-out our cross validation and hyperparameter search across a MapR cluster using Spark. We learned the following key points:\n",
    "\n",
    "* In this case, the ensemble method we tried (GradientBoostingRegressor) had better results than any individual estimator.\n",
    "\n",
    "* With GridSearchCV, we tested more hyperparameter combinations that ultimately led us to a better result.\n",
    "\n",
    "* Using [spark-sklearn](https://github.com/databricks/spark-sklearn) is a straightforward way to throw more CPU at any machine learning problem you might have.  We used the package to reduce the time spent searching and reduce the error for our estimator.\n",
    "\n",
    "There are many ways in which our first-pass analysis could be improved.  For example, we might start including more of the data from Inside Airbnb.  We could do sentiment analysis on the text of the reviews, bringing this in as an additional feature.\n",
    "\n",
    "A quick way to try the example code here on your own is with the [MapR Sandbox](https://www.mapr.com/products/mapr-sandbox-hadoop/tutorials/spark-tutorial), which comes pre-installed with MapR-FS and Spark.\n",
    "\n",
    "In the next post in the series we'll look at how to to apply the same technique to building a classifier.\n"
   ]
  },
  {
   "cell_type": "markdown",
   "metadata": {},
   "source": [
    "Regular expression esimerkki"
   ]
  },
  {
   "cell_type": "code",
   "execution_count": 39,
   "metadata": {},
   "outputs": [
    {
     "name": "stdout",
     "output_type": "stream",
     "text": [
      "Satoi Tampereella\n"
     ]
    }
   ],
   "source": [
    "import re\n",
    "\n",
    "str = \"Sataa Tampereella\"\n",
    "x= re.sub(\"aa\",\"oi\",str)\n",
    "\n",
    "print(x)"
   ]
  }
 ],
 "metadata": {
  "kernelspec": {
   "display_name": "Python 3",
   "language": "python",
   "name": "python3"
  },
  "language_info": {
   "codemirror_mode": {
    "name": "ipython",
    "version": 3
   },
   "file_extension": ".py",
   "mimetype": "text/x-python",
   "name": "python",
   "nbconvert_exporter": "python",
   "pygments_lexer": "ipython3",
   "version": "3.7.3"
  }
 },
 "nbformat": 4,
 "nbformat_minor": 1
}
